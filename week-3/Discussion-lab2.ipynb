{
 "cells": [
  {
   "cell_type": "markdown",
   "id": "e1aee030-5061-4f5b-b90c-4f957a4e4142",
   "metadata": {
    "tags": []
   },
   "source": [
    "## 9.1 Data description & 9.2 Add an image\n",
    "\n",
    "### You should have your own description of the data\n",
    "\n",
    "![image description](https://upload.wikimedia.org/wikipedia/commons/thumb/f/fc/SNOWSHOE_HARE_%28Lepus_americanus%29_%288-20-13%29_stunner_c_g%2C_n-w_conejos_co%2C_co_%282%29_%289592453799%29.jpg/660px-SNOWSHOE_HARE_%28Lepus_americanus%29_%288-20-13%29_stunner_c_g%2C_n-w_conejos_co%2C_co_%282%29_%289592453799%29.jpg)"
   ]
  },
  {
   "cell_type": "code",
   "execution_count": 2,
   "id": "f78eda3b-74f2-44f4-870a-68b6ad988959",
   "metadata": {
    "tags": []
   },
   "outputs": [],
   "source": [
    "# Import the package (pandas and numpy) \n",
    "import pandas as pd\n",
    "import numpy as np"
   ]
  },
  {
   "cell_type": "markdown",
   "id": "d0c55acd-c98c-491d-8c84-78a2d0e32b96",
   "metadata": {},
   "source": [
    "## 9.3 Data loading"
   ]
  },
  {
   "cell_type": "code",
   "execution_count": 12,
   "id": "646495b0-2330-4fab-9bc2-1cbca6a89a13",
   "metadata": {
    "tags": []
   },
   "outputs": [
    {
     "data": {
      "text/html": [
       "<div>\n",
       "<style scoped>\n",
       "    .dataframe tbody tr th:only-of-type {\n",
       "        vertical-align: middle;\n",
       "    }\n",
       "\n",
       "    .dataframe tbody tr th {\n",
       "        vertical-align: top;\n",
       "    }\n",
       "\n",
       "    .dataframe thead th {\n",
       "        text-align: right;\n",
       "    }\n",
       "</style>\n",
       "<table border=\"1\" class=\"dataframe\">\n",
       "  <thead>\n",
       "    <tr style=\"text-align: right;\">\n",
       "      <th></th>\n",
       "      <th>date</th>\n",
       "      <th>time</th>\n",
       "      <th>grid</th>\n",
       "      <th>trap</th>\n",
       "      <th>l_ear</th>\n",
       "      <th>r_ear</th>\n",
       "      <th>sex</th>\n",
       "      <th>age</th>\n",
       "      <th>weight</th>\n",
       "      <th>hindft</th>\n",
       "      <th>notes</th>\n",
       "      <th>b_key</th>\n",
       "      <th>session_id</th>\n",
       "      <th>study</th>\n",
       "    </tr>\n",
       "  </thead>\n",
       "  <tbody>\n",
       "    <tr>\n",
       "      <th>0</th>\n",
       "      <td>11/26/1998</td>\n",
       "      <td>NaN</td>\n",
       "      <td>bonrip</td>\n",
       "      <td>1A</td>\n",
       "      <td>414D096A08</td>\n",
       "      <td>NaN</td>\n",
       "      <td>NaN</td>\n",
       "      <td>NaN</td>\n",
       "      <td>1370.0</td>\n",
       "      <td>160.0</td>\n",
       "      <td>NaN</td>\n",
       "      <td>917.0</td>\n",
       "      <td>51</td>\n",
       "      <td>Population</td>\n",
       "    </tr>\n",
       "    <tr>\n",
       "      <th>1</th>\n",
       "      <td>11/26/1998</td>\n",
       "      <td>NaN</td>\n",
       "      <td>bonrip</td>\n",
       "      <td>2C</td>\n",
       "      <td>414D320671</td>\n",
       "      <td>NaN</td>\n",
       "      <td>M</td>\n",
       "      <td>NaN</td>\n",
       "      <td>1430.0</td>\n",
       "      <td>NaN</td>\n",
       "      <td>NaN</td>\n",
       "      <td>936.0</td>\n",
       "      <td>51</td>\n",
       "      <td>Population</td>\n",
       "    </tr>\n",
       "    <tr>\n",
       "      <th>2</th>\n",
       "      <td>11/26/1998</td>\n",
       "      <td>NaN</td>\n",
       "      <td>bonrip</td>\n",
       "      <td>2D</td>\n",
       "      <td>414D103E3A</td>\n",
       "      <td>NaN</td>\n",
       "      <td>M</td>\n",
       "      <td>NaN</td>\n",
       "      <td>1430.0</td>\n",
       "      <td>NaN</td>\n",
       "      <td>NaN</td>\n",
       "      <td>921.0</td>\n",
       "      <td>51</td>\n",
       "      <td>Population</td>\n",
       "    </tr>\n",
       "    <tr>\n",
       "      <th>3</th>\n",
       "      <td>11/26/1998</td>\n",
       "      <td>NaN</td>\n",
       "      <td>bonrip</td>\n",
       "      <td>2E</td>\n",
       "      <td>414D262D43</td>\n",
       "      <td>NaN</td>\n",
       "      <td>NaN</td>\n",
       "      <td>NaN</td>\n",
       "      <td>1490.0</td>\n",
       "      <td>135.0</td>\n",
       "      <td>NaN</td>\n",
       "      <td>931.0</td>\n",
       "      <td>51</td>\n",
       "      <td>Population</td>\n",
       "    </tr>\n",
       "    <tr>\n",
       "      <th>4</th>\n",
       "      <td>11/26/1998</td>\n",
       "      <td>NaN</td>\n",
       "      <td>bonrip</td>\n",
       "      <td>3B</td>\n",
       "      <td>414D2B4B58</td>\n",
       "      <td>NaN</td>\n",
       "      <td>NaN</td>\n",
       "      <td>NaN</td>\n",
       "      <td>1710.0</td>\n",
       "      <td>150.0</td>\n",
       "      <td>NaN</td>\n",
       "      <td>933.0</td>\n",
       "      <td>51</td>\n",
       "      <td>Population</td>\n",
       "    </tr>\n",
       "  </tbody>\n",
       "</table>\n",
       "</div>"
      ],
      "text/plain": [
       "         date time    grid trap       l_ear r_ear  sex  age  weight  hindft  \\\n",
       "0  11/26/1998  NaN  bonrip   1A  414D096A08   NaN  NaN  NaN  1370.0   160.0   \n",
       "1  11/26/1998  NaN  bonrip   2C  414D320671   NaN    M  NaN  1430.0     NaN   \n",
       "2  11/26/1998  NaN  bonrip   2D  414D103E3A   NaN    M  NaN  1430.0     NaN   \n",
       "3  11/26/1998  NaN  bonrip   2E  414D262D43   NaN  NaN  NaN  1490.0   135.0   \n",
       "4  11/26/1998  NaN  bonrip   3B  414D2B4B58   NaN  NaN  NaN  1710.0   150.0   \n",
       "\n",
       "  notes  b_key  session_id       study  \n",
       "0   NaN  917.0          51  Population  \n",
       "1   NaN  936.0          51  Population  \n",
       "2   NaN  921.0          51  Population  \n",
       "3   NaN  931.0          51  Population  \n",
       "4   NaN  933.0          51  Population  "
      ]
     },
     "execution_count": 12,
     "metadata": {},
     "output_type": "execute_result"
    }
   ],
   "source": [
    "# read in data\n",
    "hares = pd.read_csv('https://portal.edirepository.org/nis/dataviewer?packageid=knb-lter-bnz.55.22&entityid=f01f5d71be949b8c700b6ecd1c42c701')\n",
    "hares.head()"
   ]
  },
  {
   "cell_type": "markdown",
   "id": "a86548a4-1c12-41f0-934a-1d6a0367de9c",
   "metadata": {},
   "source": [
    "## 9.4 Metadata exploration"
   ]
  },
  {
   "cell_type": "markdown",
   "id": "efe1c045-0cf4-49cd-879d-48b68b45ea0b",
   "metadata": {},
   "source": [
    "## 9.5 Detecting messy values"
   ]
  },
  {
   "cell_type": "code",
   "execution_count": 6,
   "id": "ad89396b-148b-4b57-9fcd-eff8c5763f2e",
   "metadata": {
    "tags": []
   },
   "outputs": [
    {
     "data": {
      "text/plain": [
       "sex\n",
       "F     1161\n",
       "M      730\n",
       "f      556\n",
       "m      515\n",
       "?       40\n",
       "F?      10\n",
       "f        4\n",
       "m        4\n",
       "f?       3\n",
       "M?       2\n",
       "m?       2\n",
       "pf       1\n",
       "Name: count, dtype: int64"
      ]
     },
     "execution_count": 6,
     "metadata": {},
     "output_type": "execute_result"
    }
   ],
   "source": [
    "# use `value_counts()` to check counts of unique values in the sex column \n",
    "hares.sex.value_counts()"
   ]
  },
  {
   "cell_type": "code",
   "execution_count": 7,
   "id": "13ac8fb0-f8ec-49ca-bcb2-4853a5646aae",
   "metadata": {
    "tags": []
   },
   "outputs": [
    {
     "name": "stdout",
     "output_type": "stream",
     "text": [
      "True\n"
     ]
    },
    {
     "data": {
      "text/plain": [
       "sex\n",
       "F      1161\n",
       "M       730\n",
       "f       556\n",
       "m       515\n",
       "NaN     352\n",
       "?        40\n",
       "F?       10\n",
       "f         4\n",
       "m         4\n",
       "f?        3\n",
       "M?        2\n",
       "m?        2\n",
       "pf        1\n",
       "Name: count, dtype: int64"
      ]
     },
     "execution_count": 7,
     "metadata": {},
     "output_type": "execute_result"
    }
   ],
   "source": [
    "# check if it has nans (yes)\n",
    "print(hares.sex.hasnans)\n",
    "\n",
    "# add the dropna=False parameter\n",
    "hares.sex.value_counts(dropna=False)\n"
   ]
  },
  {
   "cell_type": "code",
   "execution_count": 8,
   "id": "1f7898c9-cb8a-4a09-9f70-26955d8387fb",
   "metadata": {
    "tags": []
   },
   "outputs": [
    {
     "data": {
      "text/plain": [
       "array([nan, 'M', 'F', '?', 'F?', 'M?', 'pf', 'm', 'f', 'f?', 'm?', 'f ',\n",
       "       'm '], dtype=object)"
      ]
     },
     "execution_count": 8,
     "metadata": {},
     "output_type": "execute_result"
    }
   ],
   "source": [
    "# get the unique values for the sex column\n",
    "hares.sex.unique()"
   ]
  },
  {
   "cell_type": "markdown",
   "id": "b981b7e2-e989-45e9-8643-af55bc8a9315",
   "metadata": {},
   "source": [
    "## 9.6 Clean values"
   ]
  },
  {
   "cell_type": "code",
   "execution_count": 9,
   "id": "269adbcd-4137-4160-96f5-dce943eb02fb",
   "metadata": {
    "tags": []
   },
   "outputs": [
    {
     "data": {
      "text/plain": [
       "sex_simple\n",
       "female    1721\n",
       "male      1249\n",
       "nan        410\n",
       "Name: count, dtype: int64"
      ]
     },
     "execution_count": 9,
     "metadata": {},
     "output_type": "execute_result"
    }
   ],
   "source": [
    "# create a new column called `sex_simple` where\n",
    "#   'F','f', and 'f ' get assigned to 'female'\n",
    "#   'M','m', and 'm ' get assigned to 'male'\n",
    "#   anything else gets assigned np.nan\n",
    "# HINT: use np.select like we did on Monday\n",
    "\n",
    "conditions = [(hares.sex == 'F') | (hares.sex == 'f') | (hares.sex == 'f '),\n",
    "              (hares.sex == 'M') | (hares.sex == 'm') | (hares.sex == 'm ')]\n",
    "\n",
    "choices = ['female', 'male']\n",
    "\n",
    "hares['sex_simple'] = np.select(conditions, choices, default=np.nan)\n",
    "\n",
    "# check the counts of unique values in the new `sex_simple` column\n",
    "hares.sex_simple.value_counts(dropna=False)\n"
   ]
  },
  {
   "cell_type": "markdown",
   "id": "ff02b983-aa4d-4fc7-9f19-1d1940006480",
   "metadata": {},
   "source": [
    "## 9.7 Calculate mean weight"
   ]
  },
  {
   "cell_type": "code",
   "execution_count": 10,
   "id": "3bd7e5f7-b564-4860-a90a-678bc7e468bf",
   "metadata": {
    "tags": []
   },
   "outputs": [
    {
     "data": {
      "text/plain": [
       "sex_simple\n",
       "female    1365.164792\n",
       "male      1349.935542\n",
       "nan       1193.364055\n",
       "Name: weight, dtype: float64"
      ]
     },
     "execution_count": 10,
     "metadata": {},
     "output_type": "execute_result"
    }
   ],
   "source": [
    "# Calculate mean weight in the new sex groups\n",
    "hares.groupby('sex_simple').weight.mean()"
   ]
  }
 ],
 "metadata": {
  "kernelspec": {
   "display_name": "Python 3 (ipykernel)",
   "language": "python",
   "name": "python3"
  },
  "language_info": {
   "codemirror_mode": {
    "name": "ipython",
    "version": 3
   },
   "file_extension": ".py",
   "mimetype": "text/x-python",
   "name": "python",
   "nbconvert_exporter": "python",
   "pygments_lexer": "ipython3",
   "version": "3.11.5"
  }
 },
 "nbformat": 4,
 "nbformat_minor": 5
}
