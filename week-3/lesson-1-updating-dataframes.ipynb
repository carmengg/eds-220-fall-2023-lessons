{
 "cells": [
  {
   "cell_type": "markdown",
   "id": "beb5b598-85a1-410c-8346-bdbee83c305d",
   "metadata": {},
   "source": [
    "# Updating data frames\n",
    "\n",
    "## Data: Palmer penguins"
   ]
  },
  {
   "cell_type": "code",
   "execution_count": 1,
   "id": "3f761b5b-a739-4017-934f-72ce497eb512",
   "metadata": {
    "tags": []
   },
   "outputs": [],
   "source": [
    "# standard libraries\n",
    "import pandas as pd\n",
    "import numpy as np\n",
    "\n",
    "# import seaborn with its standard abbreviation\n",
    "import seaborn as sns\n",
    "\n",
    "# will use the random library to create some random numbers\n",
    "import random"
   ]
  },
  {
   "cell_type": "code",
   "execution_count": 20,
   "id": "03e3312d-e101-4494-bdb2-9e9ca9153132",
   "metadata": {
    "tags": []
   },
   "outputs": [
    {
     "data": {
      "text/html": [
       "<div>\n",
       "<style scoped>\n",
       "    .dataframe tbody tr th:only-of-type {\n",
       "        vertical-align: middle;\n",
       "    }\n",
       "\n",
       "    .dataframe tbody tr th {\n",
       "        vertical-align: top;\n",
       "    }\n",
       "\n",
       "    .dataframe thead th {\n",
       "        text-align: right;\n",
       "    }\n",
       "</style>\n",
       "<table border=\"1\" class=\"dataframe\">\n",
       "  <thead>\n",
       "    <tr style=\"text-align: right;\">\n",
       "      <th></th>\n",
       "      <th>species</th>\n",
       "      <th>island</th>\n",
       "      <th>bill_length_mm</th>\n",
       "      <th>bill_depth_mm</th>\n",
       "      <th>flipper_length_mm</th>\n",
       "      <th>body_mass_g</th>\n",
       "      <th>sex</th>\n",
       "    </tr>\n",
       "  </thead>\n",
       "  <tbody>\n",
       "    <tr>\n",
       "      <th>0</th>\n",
       "      <td>Adelie</td>\n",
       "      <td>Torgersen</td>\n",
       "      <td>39.1</td>\n",
       "      <td>18.7</td>\n",
       "      <td>181.0</td>\n",
       "      <td>3750.0</td>\n",
       "      <td>Male</td>\n",
       "    </tr>\n",
       "    <tr>\n",
       "      <th>1</th>\n",
       "      <td>Adelie</td>\n",
       "      <td>Torgersen</td>\n",
       "      <td>39.5</td>\n",
       "      <td>17.4</td>\n",
       "      <td>186.0</td>\n",
       "      <td>3800.0</td>\n",
       "      <td>Female</td>\n",
       "    </tr>\n",
       "    <tr>\n",
       "      <th>2</th>\n",
       "      <td>Adelie</td>\n",
       "      <td>Torgersen</td>\n",
       "      <td>40.3</td>\n",
       "      <td>18.0</td>\n",
       "      <td>195.0</td>\n",
       "      <td>3250.0</td>\n",
       "      <td>Female</td>\n",
       "    </tr>\n",
       "    <tr>\n",
       "      <th>3</th>\n",
       "      <td>Adelie</td>\n",
       "      <td>Torgersen</td>\n",
       "      <td>NaN</td>\n",
       "      <td>NaN</td>\n",
       "      <td>NaN</td>\n",
       "      <td>NaN</td>\n",
       "      <td>NaN</td>\n",
       "    </tr>\n",
       "    <tr>\n",
       "      <th>4</th>\n",
       "      <td>Adelie</td>\n",
       "      <td>Torgersen</td>\n",
       "      <td>36.7</td>\n",
       "      <td>19.3</td>\n",
       "      <td>193.0</td>\n",
       "      <td>3450.0</td>\n",
       "      <td>Female</td>\n",
       "    </tr>\n",
       "  </tbody>\n",
       "</table>\n",
       "</div>"
      ],
      "text/plain": [
       "  species     island  bill_length_mm  bill_depth_mm  flipper_length_mm  \\\n",
       "0  Adelie  Torgersen            39.1           18.7              181.0   \n",
       "1  Adelie  Torgersen            39.5           17.4              186.0   \n",
       "2  Adelie  Torgersen            40.3           18.0              195.0   \n",
       "3  Adelie  Torgersen             NaN            NaN                NaN   \n",
       "4  Adelie  Torgersen            36.7           19.3              193.0   \n",
       "\n",
       "   body_mass_g     sex  \n",
       "0       3750.0    Male  \n",
       "1       3800.0  Female  \n",
       "2       3250.0  Female  \n",
       "3          NaN     NaN  \n",
       "4       3450.0  Female  "
      ]
     },
     "execution_count": 20,
     "metadata": {},
     "output_type": "execute_result"
    }
   ],
   "source": [
    "# import data from seaborn\n",
    "penguins = sns.load_dataset('penguins')\n",
    "\n",
    "# look at dataframe's head\n",
    "penguins.head()"
   ]
  },
  {
   "cell_type": "markdown",
   "id": "728b6b53-a6bf-4e05-81b8-8c523eb3b890",
   "metadata": {},
   "source": [
    "## Adding a column \n",
    "\n",
    "General syntax to add a single columns is\n",
    "```\n",
    "df['new_col_name'] = new_column_values\n",
    "```\n",
    "\n",
    "`new_column_values` could be:\n",
    "\n",
    "- a `pd.Series` or `numpy.array` of the same length as the data frame\n",
    "- a single scalar (a single number, a single string)\n",
    "\n",
    "**Example**\n",
    "\n",
    "Want to create a new column where the body mass is in kg instead of grams"
   ]
  },
  {
   "cell_type": "code",
   "execution_count": 21,
   "id": "3eeda383-5bfa-4d73-b952-436c6d63cf4a",
   "metadata": {
    "tags": []
   },
   "outputs": [
    {
     "name": "stdout",
     "output_type": "stream",
     "text": [
      "True\n"
     ]
    }
   ],
   "source": [
    "# added a new column\n",
    "# same syntax as adding a new value to a dictionary\n",
    "penguins['body_mass_kg'] = penguins.body_mass_g/1000\n",
    "\n",
    "print('body_mass_kg' in penguins.columns)"
   ]
  },
  {
   "cell_type": "code",
   "execution_count": 22,
   "id": "ee1fe291-06f9-4e3b-b7a7-2278439c02be",
   "metadata": {
    "tags": []
   },
   "outputs": [
    {
     "data": {
      "text/html": [
       "<div>\n",
       "<style scoped>\n",
       "    .dataframe tbody tr th:only-of-type {\n",
       "        vertical-align: middle;\n",
       "    }\n",
       "\n",
       "    .dataframe tbody tr th {\n",
       "        vertical-align: top;\n",
       "    }\n",
       "\n",
       "    .dataframe thead th {\n",
       "        text-align: right;\n",
       "    }\n",
       "</style>\n",
       "<table border=\"1\" class=\"dataframe\">\n",
       "  <thead>\n",
       "    <tr style=\"text-align: right;\">\n",
       "      <th></th>\n",
       "      <th>species</th>\n",
       "      <th>island</th>\n",
       "      <th>bill_length_mm</th>\n",
       "      <th>bill_depth_mm</th>\n",
       "      <th>flipper_length_mm</th>\n",
       "      <th>body_mass_g</th>\n",
       "      <th>sex</th>\n",
       "      <th>body_mass_kg</th>\n",
       "    </tr>\n",
       "  </thead>\n",
       "  <tbody>\n",
       "    <tr>\n",
       "      <th>0</th>\n",
       "      <td>Adelie</td>\n",
       "      <td>Torgersen</td>\n",
       "      <td>39.1</td>\n",
       "      <td>18.7</td>\n",
       "      <td>181.0</td>\n",
       "      <td>3750.0</td>\n",
       "      <td>Male</td>\n",
       "      <td>3.75</td>\n",
       "    </tr>\n",
       "    <tr>\n",
       "      <th>1</th>\n",
       "      <td>Adelie</td>\n",
       "      <td>Torgersen</td>\n",
       "      <td>39.5</td>\n",
       "      <td>17.4</td>\n",
       "      <td>186.0</td>\n",
       "      <td>3800.0</td>\n",
       "      <td>Female</td>\n",
       "      <td>3.80</td>\n",
       "    </tr>\n",
       "    <tr>\n",
       "      <th>2</th>\n",
       "      <td>Adelie</td>\n",
       "      <td>Torgersen</td>\n",
       "      <td>40.3</td>\n",
       "      <td>18.0</td>\n",
       "      <td>195.0</td>\n",
       "      <td>3250.0</td>\n",
       "      <td>Female</td>\n",
       "      <td>3.25</td>\n",
       "    </tr>\n",
       "    <tr>\n",
       "      <th>3</th>\n",
       "      <td>Adelie</td>\n",
       "      <td>Torgersen</td>\n",
       "      <td>NaN</td>\n",
       "      <td>NaN</td>\n",
       "      <td>NaN</td>\n",
       "      <td>NaN</td>\n",
       "      <td>NaN</td>\n",
       "      <td>NaN</td>\n",
       "    </tr>\n",
       "    <tr>\n",
       "      <th>4</th>\n",
       "      <td>Adelie</td>\n",
       "      <td>Torgersen</td>\n",
       "      <td>36.7</td>\n",
       "      <td>19.3</td>\n",
       "      <td>193.0</td>\n",
       "      <td>3450.0</td>\n",
       "      <td>Female</td>\n",
       "      <td>3.45</td>\n",
       "    </tr>\n",
       "  </tbody>\n",
       "</table>\n",
       "</div>"
      ],
      "text/plain": [
       "  species     island  bill_length_mm  bill_depth_mm  flipper_length_mm  \\\n",
       "0  Adelie  Torgersen            39.1           18.7              181.0   \n",
       "1  Adelie  Torgersen            39.5           17.4              186.0   \n",
       "2  Adelie  Torgersen            40.3           18.0              195.0   \n",
       "3  Adelie  Torgersen             NaN            NaN                NaN   \n",
       "4  Adelie  Torgersen            36.7           19.3              193.0   \n",
       "\n",
       "   body_mass_g     sex  body_mass_kg  \n",
       "0       3750.0    Male          3.75  \n",
       "1       3800.0  Female          3.80  \n",
       "2       3250.0  Female          3.25  \n",
       "3          NaN     NaN           NaN  \n",
       "4       3450.0  Female          3.45  "
      ]
     },
     "execution_count": 22,
     "metadata": {},
     "output_type": "execute_result"
    }
   ],
   "source": [
    "penguins.head()"
   ]
  },
  {
   "cell_type": "markdown",
   "id": "8f488df5-867b-40b8-955d-1eac0e769bc4",
   "metadata": {},
   "source": [
    "To create a new column and insert it at a particular position we use `insert()`:\n",
    "```\n",
    "df.insert(loc = integers_index,\n",
    "          column = 'new_column_name',\n",
    "          value = new_col_values) # location of new column\n",
    "```\n",
    "\n",
    "Example:\n",
    "\n",
    "Suppose each penguins gets a unique code as a three digit number. Add this column at the beginning of the data frame:"
   ]
  },
  {
   "cell_type": "code",
   "execution_count": 23,
   "id": "8ab99e76-a9cf-499c-ae0c-3b0ebd6fe9c4",
   "metadata": {
    "tags": []
   },
   "outputs": [],
   "source": [
    "# create random 3-digit codes\n",
    "# sample is without replacement\n",
    "codes = random.sample( range(100,1000), # where to sample the numbers from\n",
    "                      len(penguins) )   # how many numbers to sample\n",
    "\n",
    "penguins.insert(loc=0,\n",
    "               column='code',\n",
    "               value=codes)"
   ]
  },
  {
   "cell_type": "code",
   "execution_count": 24,
   "id": "754dd49c-3aa1-4a87-848c-3cd24b91f5d4",
   "metadata": {
    "tags": []
   },
   "outputs": [
    {
     "data": {
      "text/html": [
       "<div>\n",
       "<style scoped>\n",
       "    .dataframe tbody tr th:only-of-type {\n",
       "        vertical-align: middle;\n",
       "    }\n",
       "\n",
       "    .dataframe tbody tr th {\n",
       "        vertical-align: top;\n",
       "    }\n",
       "\n",
       "    .dataframe thead th {\n",
       "        text-align: right;\n",
       "    }\n",
       "</style>\n",
       "<table border=\"1\" class=\"dataframe\">\n",
       "  <thead>\n",
       "    <tr style=\"text-align: right;\">\n",
       "      <th></th>\n",
       "      <th>code</th>\n",
       "      <th>species</th>\n",
       "      <th>island</th>\n",
       "      <th>bill_length_mm</th>\n",
       "      <th>bill_depth_mm</th>\n",
       "      <th>flipper_length_mm</th>\n",
       "      <th>body_mass_g</th>\n",
       "      <th>sex</th>\n",
       "      <th>body_mass_kg</th>\n",
       "    </tr>\n",
       "  </thead>\n",
       "  <tbody>\n",
       "    <tr>\n",
       "      <th>0</th>\n",
       "      <td>186</td>\n",
       "      <td>Adelie</td>\n",
       "      <td>Torgersen</td>\n",
       "      <td>39.1</td>\n",
       "      <td>18.7</td>\n",
       "      <td>181.0</td>\n",
       "      <td>3750.0</td>\n",
       "      <td>Male</td>\n",
       "      <td>3.75</td>\n",
       "    </tr>\n",
       "    <tr>\n",
       "      <th>1</th>\n",
       "      <td>851</td>\n",
       "      <td>Adelie</td>\n",
       "      <td>Torgersen</td>\n",
       "      <td>39.5</td>\n",
       "      <td>17.4</td>\n",
       "      <td>186.0</td>\n",
       "      <td>3800.0</td>\n",
       "      <td>Female</td>\n",
       "      <td>3.80</td>\n",
       "    </tr>\n",
       "    <tr>\n",
       "      <th>2</th>\n",
       "      <td>831</td>\n",
       "      <td>Adelie</td>\n",
       "      <td>Torgersen</td>\n",
       "      <td>40.3</td>\n",
       "      <td>18.0</td>\n",
       "      <td>195.0</td>\n",
       "      <td>3250.0</td>\n",
       "      <td>Female</td>\n",
       "      <td>3.25</td>\n",
       "    </tr>\n",
       "    <tr>\n",
       "      <th>3</th>\n",
       "      <td>856</td>\n",
       "      <td>Adelie</td>\n",
       "      <td>Torgersen</td>\n",
       "      <td>NaN</td>\n",
       "      <td>NaN</td>\n",
       "      <td>NaN</td>\n",
       "      <td>NaN</td>\n",
       "      <td>NaN</td>\n",
       "      <td>NaN</td>\n",
       "    </tr>\n",
       "    <tr>\n",
       "      <th>4</th>\n",
       "      <td>155</td>\n",
       "      <td>Adelie</td>\n",
       "      <td>Torgersen</td>\n",
       "      <td>36.7</td>\n",
       "      <td>19.3</td>\n",
       "      <td>193.0</td>\n",
       "      <td>3450.0</td>\n",
       "      <td>Female</td>\n",
       "      <td>3.45</td>\n",
       "    </tr>\n",
       "  </tbody>\n",
       "</table>\n",
       "</div>"
      ],
      "text/plain": [
       "   code species     island  bill_length_mm  bill_depth_mm  flipper_length_mm  \\\n",
       "0   186  Adelie  Torgersen            39.1           18.7              181.0   \n",
       "1   851  Adelie  Torgersen            39.5           17.4              186.0   \n",
       "2   831  Adelie  Torgersen            40.3           18.0              195.0   \n",
       "3   856  Adelie  Torgersen             NaN            NaN                NaN   \n",
       "4   155  Adelie  Torgersen            36.7           19.3              193.0   \n",
       "\n",
       "   body_mass_g     sex  body_mass_kg  \n",
       "0       3750.0    Male          3.75  \n",
       "1       3800.0  Female          3.80  \n",
       "2       3250.0  Female          3.25  \n",
       "3          NaN     NaN           NaN  \n",
       "4       3450.0  Female          3.45  "
      ]
     },
     "execution_count": 24,
     "metadata": {},
     "output_type": "execute_result"
    }
   ],
   "source": [
    "penguins.head()"
   ]
  },
  {
   "cell_type": "markdown",
   "id": "b27e8685-6552-4d5b-9f4e-555418231dc2",
   "metadata": {
    "tags": []
   },
   "source": [
    "Q: what happens if we reassign with insert?"
   ]
  },
  {
   "cell_type": "markdown",
   "id": "80f768f3-b515-4ebd-9c87-006bc61da427",
   "metadata": {},
   "source": [
    "## Adding multiple columns\n",
    "\n",
    "We can assign multiple columns in the same call using `assign()` method.\n",
    "Syntax:\n",
    "```\n",
    "df.assign( new_col1_name = new_col1_values, \n",
    "           new_col2_name = new_col2_values)\n",
    "```\n",
    "Notice: new column names are not strings, we declare them as if we were creting variables\n",
    "\n",
    "Example: \n",
    "Add columns:\n",
    "\n",
    "- flipper length covnerted from mm to cm, and\n",
    "- a code representing the observer"
   ]
  },
  {
   "cell_type": "code",
   "execution_count": null,
   "id": "b7ec705d-4368-4e02-b3b6-23762e876f6e",
   "metadata": {
    "tags": []
   },
   "outputs": [],
   "source": [
    "# create codes for observers\n",
    "observers = random.choices(['A','B','C'], # sample fron this array\n",
    "                           k=len(penguins)) # get this/these? many items\n",
    "\n",
    "penguins = penguins.assign( flipper_length_cm = penguins.flipper_length_mm/10,\n",
    "                            observer = observers \n",
    "                          )\n",
    "\n",
    "penguins.head()"
   ]
  },
  {
   "cell_type": "markdown",
   "id": "b93e9f07-2948-4255-b3ed-94a8abb0766f",
   "metadata": {},
   "source": [
    "## Removing columns\n",
    "\n",
    "We can remove columns using the `drop()` method. Syntax:\n",
    "```\n",
    "df = df.drop(columns = col_names)\n",
    "```\n",
    "where `col_names` can be a single column name (string) or  a list of column names.\n",
    "\n",
    "Example\n",
    "\n",
    "We want to drop the flipper length in mm and the body mass in grams"
   ]
  },
  {
   "cell_type": "code",
   "execution_count": 27,
   "id": "d563682a-c5ed-4525-85f2-b4cf0feaf497",
   "metadata": {
    "tags": []
   },
   "outputs": [
    {
     "name": "stdout",
     "output_type": "stream",
     "text": [
      "Index(['code', 'species', 'island', 'bill_length_mm', 'bill_depth_mm', 'sex',\n",
      "       'body_mass_kg', 'flipper_length_cm', 'observer'],\n",
      "      dtype='object')\n"
     ]
    }
   ],
   "source": [
    "# reassign when using drop\n",
    "penguins = penguins.drop(columns=['flipper_length_mm', 'body_mass_g'])\n",
    "\n",
    "print(penguins.columns)"
   ]
  },
  {
   "cell_type": "markdown",
   "id": "5ca07ee8-3a19-4f3a-ba93-4041a53fb9b8",
   "metadata": {},
   "source": [
    "## Updating values\n",
    "\n",
    "Sometimes we want to update certain values in our data frame. \n",
    "\n",
    "### A single value\n",
    "We can access a single value in a `pd.DataFrame` using the locators:\n",
    "\n",
    "- `at[]` : to select by labels\n",
    "- `iat[]`: to select by integer index/position\n",
    "\n",
    "Syntax for `at[]`:\n",
    "```\n",
    "df.at[single_index_value, 'column_name']\n",
    "```\n",
    "\n",
    "`at[]` equivalent to `loc[]` when accessing a single value\n",
    "\n",
    "Example\n",
    "\n",
    "Want to know the bill length of the penguin in the fourth row. "
   ]
  },
  {
   "cell_type": "code",
   "execution_count": 28,
   "id": "80903392-9735-408f-bf52-eb639f94e4f4",
   "metadata": {
    "tags": []
   },
   "outputs": [
    {
     "data": {
      "text/plain": [
       "nan"
      ]
     },
     "execution_count": 28,
     "metadata": {},
     "output_type": "execute_result"
    }
   ],
   "source": [
    "penguins.at[3, 'bill_length_mm']"
   ]
  },
  {
   "cell_type": "markdown",
   "id": "d35bee54-28f5-43fb-ba64-95bc97e23e13",
   "metadata": {},
   "source": [
    "We got an NA. Let's update to 38.3 mm. We do this using `at[]` too:"
   ]
  },
  {
   "cell_type": "code",
   "execution_count": 29,
   "id": "1d737555-85e1-47bd-9fb6-b7d8542ebb5c",
   "metadata": {
    "tags": []
   },
   "outputs": [
    {
     "data": {
      "text/html": [
       "<div>\n",
       "<style scoped>\n",
       "    .dataframe tbody tr th:only-of-type {\n",
       "        vertical-align: middle;\n",
       "    }\n",
       "\n",
       "    .dataframe tbody tr th {\n",
       "        vertical-align: top;\n",
       "    }\n",
       "\n",
       "    .dataframe thead th {\n",
       "        text-align: right;\n",
       "    }\n",
       "</style>\n",
       "<table border=\"1\" class=\"dataframe\">\n",
       "  <thead>\n",
       "    <tr style=\"text-align: right;\">\n",
       "      <th></th>\n",
       "      <th>code</th>\n",
       "      <th>species</th>\n",
       "      <th>island</th>\n",
       "      <th>bill_length_mm</th>\n",
       "      <th>bill_depth_mm</th>\n",
       "      <th>sex</th>\n",
       "      <th>body_mass_kg</th>\n",
       "      <th>flipper_length_cm</th>\n",
       "      <th>observer</th>\n",
       "    </tr>\n",
       "  </thead>\n",
       "  <tbody>\n",
       "    <tr>\n",
       "      <th>0</th>\n",
       "      <td>186</td>\n",
       "      <td>Adelie</td>\n",
       "      <td>Torgersen</td>\n",
       "      <td>39.1</td>\n",
       "      <td>18.7</td>\n",
       "      <td>Male</td>\n",
       "      <td>3.75</td>\n",
       "      <td>18.1</td>\n",
       "      <td>B</td>\n",
       "    </tr>\n",
       "    <tr>\n",
       "      <th>1</th>\n",
       "      <td>851</td>\n",
       "      <td>Adelie</td>\n",
       "      <td>Torgersen</td>\n",
       "      <td>39.5</td>\n",
       "      <td>17.4</td>\n",
       "      <td>Female</td>\n",
       "      <td>3.80</td>\n",
       "      <td>18.6</td>\n",
       "      <td>A</td>\n",
       "    </tr>\n",
       "    <tr>\n",
       "      <th>2</th>\n",
       "      <td>831</td>\n",
       "      <td>Adelie</td>\n",
       "      <td>Torgersen</td>\n",
       "      <td>40.3</td>\n",
       "      <td>18.0</td>\n",
       "      <td>Female</td>\n",
       "      <td>3.25</td>\n",
       "      <td>19.5</td>\n",
       "      <td>B</td>\n",
       "    </tr>\n",
       "    <tr>\n",
       "      <th>3</th>\n",
       "      <td>856</td>\n",
       "      <td>Adelie</td>\n",
       "      <td>Torgersen</td>\n",
       "      <td>38.3</td>\n",
       "      <td>NaN</td>\n",
       "      <td>NaN</td>\n",
       "      <td>NaN</td>\n",
       "      <td>NaN</td>\n",
       "      <td>A</td>\n",
       "    </tr>\n",
       "    <tr>\n",
       "      <th>4</th>\n",
       "      <td>155</td>\n",
       "      <td>Adelie</td>\n",
       "      <td>Torgersen</td>\n",
       "      <td>36.7</td>\n",
       "      <td>19.3</td>\n",
       "      <td>Female</td>\n",
       "      <td>3.45</td>\n",
       "      <td>19.3</td>\n",
       "      <td>A</td>\n",
       "    </tr>\n",
       "  </tbody>\n",
       "</table>\n",
       "</div>"
      ],
      "text/plain": [
       "   code species     island  bill_length_mm  bill_depth_mm     sex  \\\n",
       "0   186  Adelie  Torgersen            39.1           18.7    Male   \n",
       "1   851  Adelie  Torgersen            39.5           17.4  Female   \n",
       "2   831  Adelie  Torgersen            40.3           18.0  Female   \n",
       "3   856  Adelie  Torgersen            38.3            NaN     NaN   \n",
       "4   155  Adelie  Torgersen            36.7           19.3  Female   \n",
       "\n",
       "   body_mass_kg  flipper_length_cm observer  \n",
       "0          3.75               18.1        B  \n",
       "1          3.80               18.6        A  \n",
       "2          3.25               19.5        B  \n",
       "3           NaN                NaN        A  \n",
       "4          3.45               19.3        A  "
      ]
     },
     "execution_count": 29,
     "metadata": {},
     "output_type": "execute_result"
    }
   ],
   "source": [
    "penguins.at[3, 'bill_length_mm'] = 38.3\n",
    "\n",
    "penguins.head()"
   ]
  },
  {
   "cell_type": "code",
   "execution_count": 33,
   "id": "0b04b4b7-459c-44da-88ad-12ad1ab48589",
   "metadata": {
    "tags": []
   },
   "outputs": [
    {
     "data": {
      "text/html": [
       "<div>\n",
       "<style scoped>\n",
       "    .dataframe tbody tr th:only-of-type {\n",
       "        vertical-align: middle;\n",
       "    }\n",
       "\n",
       "    .dataframe tbody tr th {\n",
       "        vertical-align: top;\n",
       "    }\n",
       "\n",
       "    .dataframe thead th {\n",
       "        text-align: right;\n",
       "    }\n",
       "</style>\n",
       "<table border=\"1\" class=\"dataframe\">\n",
       "  <thead>\n",
       "    <tr style=\"text-align: right;\">\n",
       "      <th></th>\n",
       "      <th>code</th>\n",
       "      <th>species</th>\n",
       "      <th>island</th>\n",
       "      <th>bill_length_mm</th>\n",
       "      <th>bill_depth_mm</th>\n",
       "      <th>sex</th>\n",
       "      <th>body_mass_kg</th>\n",
       "      <th>flipper_length_cm</th>\n",
       "      <th>observer</th>\n",
       "    </tr>\n",
       "  </thead>\n",
       "  <tbody>\n",
       "    <tr>\n",
       "      <th>0</th>\n",
       "      <td>186</td>\n",
       "      <td>Adelie</td>\n",
       "      <td>Torgersen</td>\n",
       "      <td>39.1</td>\n",
       "      <td>18.7</td>\n",
       "      <td>Male</td>\n",
       "      <td>3.75</td>\n",
       "      <td>18.1</td>\n",
       "      <td>B</td>\n",
       "    </tr>\n",
       "    <tr>\n",
       "      <th>1</th>\n",
       "      <td>999</td>\n",
       "      <td>Adelie</td>\n",
       "      <td>Torgersen</td>\n",
       "      <td>39.5</td>\n",
       "      <td>17.4</td>\n",
       "      <td>Female</td>\n",
       "      <td>3.80</td>\n",
       "      <td>18.6</td>\n",
       "      <td>A</td>\n",
       "    </tr>\n",
       "    <tr>\n",
       "      <th>2</th>\n",
       "      <td>831</td>\n",
       "      <td>Adelie</td>\n",
       "      <td>Torgersen</td>\n",
       "      <td>40.3</td>\n",
       "      <td>18.0</td>\n",
       "      <td>Female</td>\n",
       "      <td>3.25</td>\n",
       "      <td>19.5</td>\n",
       "      <td>B</td>\n",
       "    </tr>\n",
       "    <tr>\n",
       "      <th>3</th>\n",
       "      <td>856</td>\n",
       "      <td>Adelie</td>\n",
       "      <td>Torgersen</td>\n",
       "      <td>38.3</td>\n",
       "      <td>NaN</td>\n",
       "      <td>NaN</td>\n",
       "      <td>NaN</td>\n",
       "      <td>NaN</td>\n",
       "      <td>A</td>\n",
       "    </tr>\n",
       "    <tr>\n",
       "      <th>4</th>\n",
       "      <td>155</td>\n",
       "      <td>Adelie</td>\n",
       "      <td>Torgersen</td>\n",
       "      <td>36.7</td>\n",
       "      <td>19.3</td>\n",
       "      <td>Female</td>\n",
       "      <td>3.45</td>\n",
       "      <td>19.3</td>\n",
       "      <td>A</td>\n",
       "    </tr>\n",
       "  </tbody>\n",
       "</table>\n",
       "</div>"
      ],
      "text/plain": [
       "   code species     island  bill_length_mm  bill_depth_mm     sex  \\\n",
       "0   186  Adelie  Torgersen            39.1           18.7    Male   \n",
       "1   999  Adelie  Torgersen            39.5           17.4  Female   \n",
       "2   831  Adelie  Torgersen            40.3           18.0  Female   \n",
       "3   856  Adelie  Torgersen            38.3            NaN     NaN   \n",
       "4   155  Adelie  Torgersen            36.7           19.3  Female   \n",
       "\n",
       "   body_mass_kg  flipper_length_cm observer  \n",
       "0          3.75               18.1        B  \n",
       "1          3.80               18.6        A  \n",
       "2          3.25               19.5        B  \n",
       "3           NaN                NaN        A  \n",
       "4          3.45               19.3        A  "
      ]
     },
     "execution_count": 33,
     "metadata": {},
     "output_type": "execute_result"
    }
   ],
   "source": [
    "penguins.iat[1,0] = 999\n",
    "penguins.head()"
   ]
  },
  {
   "cell_type": "code",
   "execution_count": 31,
   "id": "c115c3ee-b243-4b52-b33e-d4c17fd4a74c",
   "metadata": {
    "tags": []
   },
   "outputs": [
    {
     "name": "stdout",
     "output_type": "stream",
     "text": [
      "10\n"
     ]
    }
   ],
   "source": [
    "# Q: what happens if you reverse the assignment in .at?\n",
    "a = 10\n",
    "b = 20\n",
    "\n",
    "b = a\n",
    "print(b)"
   ]
  },
  {
   "cell_type": "markdown",
   "id": "d9ce48cb-71d1-479f-824a-8392cb9fe56c",
   "metadata": {},
   "source": [
    "## Update multiple values in a column\n",
    "\n",
    "### By condition\n",
    "\n",
    "Think of `case_when` in R.\n",
    "\n",
    "Example\n",
    "\n",
    "We want to classify penguins such that:\n",
    "\n",
    "- small penguins : body mass < 3kg\n",
    "- medium penguins: 3kg <= body mass < 5kg\n",
    "- big penguins: body mass > 5kg\n",
    "\n",
    "One way to do this is using `numpy.select()` to create a new column"
   ]
  },
  {
   "cell_type": "code",
   "execution_count": 35,
   "id": "7e50abb1-6639-47e8-af65-9139f4392eeb",
   "metadata": {
    "tags": []
   },
   "outputs": [],
   "source": [
    "# create a list with the conditions\n",
    "conditions = [penguins.body_mass_kg < 3,\n",
    "              (3 <= penguins.body_mass_kg) & (penguins.body_mass_kg<5),\n",
    "              5<= penguins.body_mass_kg]\n",
    "\n",
    "# create a list with the choices\n",
    "choices = ['small',\n",
    "           'medium',\n",
    "           'large']\n",
    "\n",
    "# default = value for anything that falls outside conditions\n",
    "penguins['size'] = np.select(conditions, choices, default=np.nan)"
   ]
  },
  {
   "cell_type": "code",
   "execution_count": 36,
   "id": "4071b0da-f2d7-4007-ac77-08232311e41d",
   "metadata": {
    "tags": []
   },
   "outputs": [
    {
     "data": {
      "text/html": [
       "<div>\n",
       "<style scoped>\n",
       "    .dataframe tbody tr th:only-of-type {\n",
       "        vertical-align: middle;\n",
       "    }\n",
       "\n",
       "    .dataframe tbody tr th {\n",
       "        vertical-align: top;\n",
       "    }\n",
       "\n",
       "    .dataframe thead th {\n",
       "        text-align: right;\n",
       "    }\n",
       "</style>\n",
       "<table border=\"1\" class=\"dataframe\">\n",
       "  <thead>\n",
       "    <tr style=\"text-align: right;\">\n",
       "      <th></th>\n",
       "      <th>code</th>\n",
       "      <th>species</th>\n",
       "      <th>island</th>\n",
       "      <th>bill_length_mm</th>\n",
       "      <th>bill_depth_mm</th>\n",
       "      <th>sex</th>\n",
       "      <th>body_mass_kg</th>\n",
       "      <th>flipper_length_cm</th>\n",
       "      <th>observer</th>\n",
       "      <th>size</th>\n",
       "    </tr>\n",
       "  </thead>\n",
       "  <tbody>\n",
       "    <tr>\n",
       "      <th>0</th>\n",
       "      <td>186</td>\n",
       "      <td>Adelie</td>\n",
       "      <td>Torgersen</td>\n",
       "      <td>39.1</td>\n",
       "      <td>18.7</td>\n",
       "      <td>Male</td>\n",
       "      <td>3.75</td>\n",
       "      <td>18.1</td>\n",
       "      <td>B</td>\n",
       "      <td>medium</td>\n",
       "    </tr>\n",
       "    <tr>\n",
       "      <th>1</th>\n",
       "      <td>999</td>\n",
       "      <td>Adelie</td>\n",
       "      <td>Torgersen</td>\n",
       "      <td>39.5</td>\n",
       "      <td>17.4</td>\n",
       "      <td>Female</td>\n",
       "      <td>3.80</td>\n",
       "      <td>18.6</td>\n",
       "      <td>A</td>\n",
       "      <td>medium</td>\n",
       "    </tr>\n",
       "    <tr>\n",
       "      <th>2</th>\n",
       "      <td>831</td>\n",
       "      <td>Adelie</td>\n",
       "      <td>Torgersen</td>\n",
       "      <td>40.3</td>\n",
       "      <td>18.0</td>\n",
       "      <td>Female</td>\n",
       "      <td>3.25</td>\n",
       "      <td>19.5</td>\n",
       "      <td>B</td>\n",
       "      <td>medium</td>\n",
       "    </tr>\n",
       "    <tr>\n",
       "      <th>3</th>\n",
       "      <td>856</td>\n",
       "      <td>Adelie</td>\n",
       "      <td>Torgersen</td>\n",
       "      <td>38.3</td>\n",
       "      <td>NaN</td>\n",
       "      <td>NaN</td>\n",
       "      <td>NaN</td>\n",
       "      <td>NaN</td>\n",
       "      <td>A</td>\n",
       "      <td>nan</td>\n",
       "    </tr>\n",
       "    <tr>\n",
       "      <th>4</th>\n",
       "      <td>155</td>\n",
       "      <td>Adelie</td>\n",
       "      <td>Torgersen</td>\n",
       "      <td>36.7</td>\n",
       "      <td>19.3</td>\n",
       "      <td>Female</td>\n",
       "      <td>3.45</td>\n",
       "      <td>19.3</td>\n",
       "      <td>A</td>\n",
       "      <td>medium</td>\n",
       "    </tr>\n",
       "  </tbody>\n",
       "</table>\n",
       "</div>"
      ],
      "text/plain": [
       "   code species     island  bill_length_mm  bill_depth_mm     sex  \\\n",
       "0   186  Adelie  Torgersen            39.1           18.7    Male   \n",
       "1   999  Adelie  Torgersen            39.5           17.4  Female   \n",
       "2   831  Adelie  Torgersen            40.3           18.0  Female   \n",
       "3   856  Adelie  Torgersen            38.3            NaN     NaN   \n",
       "4   155  Adelie  Torgersen            36.7           19.3  Female   \n",
       "\n",
       "   body_mass_kg  flipper_length_cm observer    size  \n",
       "0          3.75               18.1        B  medium  \n",
       "1          3.80               18.6        A  medium  \n",
       "2          3.25               19.5        B  medium  \n",
       "3           NaN                NaN        A     nan  \n",
       "4          3.45               19.3        A  medium  "
      ]
     },
     "execution_count": 36,
     "metadata": {},
     "output_type": "execute_result"
    }
   ],
   "source": [
    "penguins.head()"
   ]
  },
  {
   "cell_type": "markdown",
   "id": "34249b73-7b68-4cae-bc1c-85b1706aed4d",
   "metadata": {},
   "source": [
    "### Update a column by selecting values\n",
    "\n",
    "Sometimes we just want to update a few values that satisfy a condition.\n",
    "We can do this by selecting using `loc` (if selecting by label) and then assigning a new value\n",
    "```\n",
    "# modifies data in place\n",
    "df.loc[row_selection, col_name] = new_values\n",
    "```\n",
    "where\n",
    "\n",
    "- `row_selection` = rows we want to update,\n",
    "- `col_name` = a single column name, and\n",
    "- `new_values` = the new value or values we want to update. If using multiple values, make sure they are the same length as the data frame. \n",
    "\n",
    "Example\n",
    "\n",
    "We want to update the \"Male\" value in the sex column to \"M\""
   ]
  },
  {
   "cell_type": "code",
   "execution_count": 40,
   "id": "d3307d00-2678-46cc-a426-de37311b702a",
   "metadata": {
    "tags": []
   },
   "outputs": [],
   "source": [
    "penguins.loc[penguins.sex=='Male', 'sex'] = 'M'"
   ]
  },
  {
   "cell_type": "code",
   "execution_count": 42,
   "id": "f0749a39-384f-4a8d-bfde-cf610640e7ee",
   "metadata": {
    "tags": []
   },
   "outputs": [
    {
     "data": {
      "text/plain": [
       "array(['M', 'Female', nan], dtype=object)"
      ]
     },
     "execution_count": 42,
     "metadata": {},
     "output_type": "execute_result"
    }
   ],
   "source": [
    "penguins.sex.unique()"
   ]
  },
  {
   "cell_type": "markdown",
   "id": "2cd2373e-7f75-46d9-b0ae-6071bf1bcaf3",
   "metadata": {},
   "source": [
    "## `SettingWithCopyWarning`\n",
    "\n",
    "Suppose we want to update the \"Female\" value in the sex columnto \"F\". \n",
    "This is an example of something we might try, but won't work:"
   ]
  },
  {
   "cell_type": "code",
   "execution_count": 43,
   "id": "04b89a8e-75e2-4a2e-a24f-b307a7c1f2d6",
   "metadata": {
    "tags": []
   },
   "outputs": [
    {
     "name": "stderr",
     "output_type": "stream",
     "text": [
      "/tmp/ipykernel_8177/2972742501.py:1: SettingWithCopyWarning: \n",
      "A value is trying to be set on a copy of a slice from a DataFrame.\n",
      "Try using .loc[row_indexer,col_indexer] = value instead\n",
      "\n",
      "See the caveats in the documentation: https://pandas.pydata.org/pandas-docs/stable/user_guide/indexing.html#returning-a-view-versus-a-copy\n",
      "  penguins[penguins.sex=='Female']['sex'] = 'F'\n"
     ]
    }
   ],
   "source": [
    "penguins[penguins.sex=='Female']['sex'] = 'F'"
   ]
  },
  {
   "cell_type": "code",
   "execution_count": 46,
   "id": "d60ef322-63db-4381-9b05-041c017a5847",
   "metadata": {
    "tags": []
   },
   "outputs": [
    {
     "data": {
      "text/plain": [
       "1     Female\n",
       "2     Female\n",
       "4     Female\n",
       "6     Female\n",
       "12    Female\n",
       "Name: sex, dtype: object"
      ]
     },
     "execution_count": 46,
     "metadata": {},
     "output_type": "execute_result"
    }
   ],
   "source": [
    "penguins[penguins.sex=='Female']['sex'] #[][]"
   ]
  },
  {
   "cell_type": "code",
   "execution_count": 45,
   "id": "881f882d-d5dd-4b38-bda3-e3149cc3bd32",
   "metadata": {
    "tags": []
   },
   "outputs": [
    {
     "data": {
      "text/plain": [
       "1      Female\n",
       "2      Female\n",
       "4      Female\n",
       "6      Female\n",
       "12     Female\n",
       "        ...  \n",
       "332    Female\n",
       "334    Female\n",
       "338    Female\n",
       "340    Female\n",
       "342    Female\n",
       "Name: sex, Length: 165, dtype: object"
      ]
     },
     "execution_count": 45,
     "metadata": {},
     "output_type": "execute_result"
    }
   ],
   "source": [
    "penguins[penguins.sex=='Female']['sex']"
   ]
  },
  {
   "cell_type": "markdown",
   "id": "73987926-948a-4461-ab5d-c424697986d4",
   "metadata": {},
   "source": [
    "When we select data with **chained indexing** `[][]` instead of `loc` we get this warning. \n",
    "`pandas` is trying to alert us that our code is ambiguous and there might a bug\n",
    "\n",
    "In this case, we did not update the penguins data frame:"
   ]
  },
  {
   "cell_type": "code",
   "execution_count": 44,
   "id": "30390a71-5a4d-4053-bfe8-4e9ed6993fb3",
   "metadata": {
    "tags": []
   },
   "outputs": [
    {
     "data": {
      "text/html": [
       "<div>\n",
       "<style scoped>\n",
       "    .dataframe tbody tr th:only-of-type {\n",
       "        vertical-align: middle;\n",
       "    }\n",
       "\n",
       "    .dataframe tbody tr th {\n",
       "        vertical-align: top;\n",
       "    }\n",
       "\n",
       "    .dataframe thead th {\n",
       "        text-align: right;\n",
       "    }\n",
       "</style>\n",
       "<table border=\"1\" class=\"dataframe\">\n",
       "  <thead>\n",
       "    <tr style=\"text-align: right;\">\n",
       "      <th></th>\n",
       "      <th>code</th>\n",
       "      <th>species</th>\n",
       "      <th>island</th>\n",
       "      <th>bill_length_mm</th>\n",
       "      <th>bill_depth_mm</th>\n",
       "      <th>sex</th>\n",
       "      <th>body_mass_kg</th>\n",
       "      <th>flipper_length_cm</th>\n",
       "      <th>observer</th>\n",
       "      <th>size</th>\n",
       "    </tr>\n",
       "  </thead>\n",
       "  <tbody>\n",
       "    <tr>\n",
       "      <th>0</th>\n",
       "      <td>186</td>\n",
       "      <td>Adelie</td>\n",
       "      <td>Torgersen</td>\n",
       "      <td>39.1</td>\n",
       "      <td>18.7</td>\n",
       "      <td>M</td>\n",
       "      <td>3.75</td>\n",
       "      <td>18.1</td>\n",
       "      <td>B</td>\n",
       "      <td>medium</td>\n",
       "    </tr>\n",
       "    <tr>\n",
       "      <th>1</th>\n",
       "      <td>999</td>\n",
       "      <td>Adelie</td>\n",
       "      <td>Torgersen</td>\n",
       "      <td>39.5</td>\n",
       "      <td>17.4</td>\n",
       "      <td>Female</td>\n",
       "      <td>3.80</td>\n",
       "      <td>18.6</td>\n",
       "      <td>A</td>\n",
       "      <td>medium</td>\n",
       "    </tr>\n",
       "    <tr>\n",
       "      <th>2</th>\n",
       "      <td>831</td>\n",
       "      <td>Adelie</td>\n",
       "      <td>Torgersen</td>\n",
       "      <td>40.3</td>\n",
       "      <td>18.0</td>\n",
       "      <td>Female</td>\n",
       "      <td>3.25</td>\n",
       "      <td>19.5</td>\n",
       "      <td>B</td>\n",
       "      <td>medium</td>\n",
       "    </tr>\n",
       "    <tr>\n",
       "      <th>3</th>\n",
       "      <td>856</td>\n",
       "      <td>Adelie</td>\n",
       "      <td>Torgersen</td>\n",
       "      <td>38.3</td>\n",
       "      <td>NaN</td>\n",
       "      <td>NaN</td>\n",
       "      <td>NaN</td>\n",
       "      <td>NaN</td>\n",
       "      <td>A</td>\n",
       "      <td>nan</td>\n",
       "    </tr>\n",
       "    <tr>\n",
       "      <th>4</th>\n",
       "      <td>155</td>\n",
       "      <td>Adelie</td>\n",
       "      <td>Torgersen</td>\n",
       "      <td>36.7</td>\n",
       "      <td>19.3</td>\n",
       "      <td>Female</td>\n",
       "      <td>3.45</td>\n",
       "      <td>19.3</td>\n",
       "      <td>A</td>\n",
       "      <td>medium</td>\n",
       "    </tr>\n",
       "  </tbody>\n",
       "</table>\n",
       "</div>"
      ],
      "text/plain": [
       "   code species     island  bill_length_mm  bill_depth_mm     sex  \\\n",
       "0   186  Adelie  Torgersen            39.1           18.7       M   \n",
       "1   999  Adelie  Torgersen            39.5           17.4  Female   \n",
       "2   831  Adelie  Torgersen            40.3           18.0  Female   \n",
       "3   856  Adelie  Torgersen            38.3            NaN     NaN   \n",
       "4   155  Adelie  Torgersen            36.7           19.3  Female   \n",
       "\n",
       "   body_mass_kg  flipper_length_cm observer    size  \n",
       "0          3.75               18.1        B  medium  \n",
       "1          3.80               18.6        A  medium  \n",
       "2          3.25               19.5        B  medium  \n",
       "3           NaN                NaN        A     nan  \n",
       "4          3.45               19.3        A  medium  "
      ]
     },
     "execution_count": 44,
     "metadata": {},
     "output_type": "execute_result"
    }
   ],
   "source": [
    "penguins.head()"
   ]
  },
  {
   "cell_type": "markdown",
   "id": "adf32c51-c2d0-4fec-b4e1-c7247c7232d7",
   "metadata": {},
   "source": [
    "## Views and copies\n",
    "\n",
    "Some `pandas` operations return a view to your data, while others return a copy to your data.\n",
    "\n",
    "- **Views** are actual subsets of the original data, when we update them, we are modifying the original data frame.\n",
    "\n",
    "- **Copies** are unique objects, independent of our original data frame. When we update a copy we are not modifying our original data frame. \n",
    "\n",
    "Depending on what we are trying to do, we might want to modify a copy or a view. \n",
    "\n",
    "### Another `SettingWithCopyWarning`\n",
    "\n",
    "Another common situation when this warning comes up is when we try updating a subset of our data frame already stored in a variable\n",
    "\n",
    "Example\n",
    "\n",
    "We only want data from Biscoe island and, after doing some anlyses, we want to add a new column to it:"
   ]
  },
  {
   "cell_type": "code",
   "execution_count": 49,
   "id": "ecb95c5b-73a8-4fed-bf10-369dfb91e706",
   "metadata": {
    "tags": []
   },
   "outputs": [
    {
     "name": "stderr",
     "output_type": "stream",
     "text": [
      "/tmp/ipykernel_8177/3682940859.py:5: SettingWithCopyWarning: \n",
      "A value is trying to be set on a copy of a slice from a DataFrame.\n",
      "Try using .loc[row_indexer,col_indexer] = value instead\n",
      "\n",
      "See the caveats in the documentation: https://pandas.pydata.org/pandas-docs/stable/user_guide/indexing.html#returning-a-view-versus-a-copy\n",
      "  biscoe['sample_column'] = 100\n"
     ]
    }
   ],
   "source": [
    "biscoe = penguins[penguins.island=='Biscoe']\n",
    "\n",
    "# 50 lines of code\n",
    "\n",
    "biscoe['sample_column'] = 100"
   ]
  },
  {
   "cell_type": "markdown",
   "id": "e459c62c-6edc-4cde-b5d2-0773823f9735",
   "metadata": {},
   "source": [
    "Essentially what we did was\n",
    "```python\n",
    "penguins[penguins.island=='Biscoe']['sample_column'] = 100\n",
    "```"
   ]
  },
  {
   "cell_type": "markdown",
   "id": "d568635f-67be-4ccb-a718-4f64c4864eeb",
   "metadata": {},
   "source": [
    "To fix this we can **take control of the copy-view situation and explicitely ask for a copy of the dataset when subsetting the data**. \n",
    "Use the `copy()` method for this"
   ]
  },
  {
   "cell_type": "code",
   "execution_count": 50,
   "id": "6381da49-53a6-481a-a0ee-3d881f98a67a",
   "metadata": {
    "tags": []
   },
   "outputs": [],
   "source": [
    "biscoe = penguins[penguins.island=='Biscoe'].copy()\n",
    "\n",
    "biscoe['sample_col'] = 100"
   ]
  },
  {
   "cell_type": "code",
   "execution_count": 51,
   "id": "7603f435-4b4f-4468-9d5f-1e1279b043bf",
   "metadata": {
    "tags": []
   },
   "outputs": [
    {
     "data": {
      "text/html": [
       "<div>\n",
       "<style scoped>\n",
       "    .dataframe tbody tr th:only-of-type {\n",
       "        vertical-align: middle;\n",
       "    }\n",
       "\n",
       "    .dataframe tbody tr th {\n",
       "        vertical-align: top;\n",
       "    }\n",
       "\n",
       "    .dataframe thead th {\n",
       "        text-align: right;\n",
       "    }\n",
       "</style>\n",
       "<table border=\"1\" class=\"dataframe\">\n",
       "  <thead>\n",
       "    <tr style=\"text-align: right;\">\n",
       "      <th></th>\n",
       "      <th>code</th>\n",
       "      <th>species</th>\n",
       "      <th>island</th>\n",
       "      <th>bill_length_mm</th>\n",
       "      <th>bill_depth_mm</th>\n",
       "      <th>sex</th>\n",
       "      <th>body_mass_kg</th>\n",
       "      <th>flipper_length_cm</th>\n",
       "      <th>observer</th>\n",
       "      <th>size</th>\n",
       "      <th>sample_col</th>\n",
       "    </tr>\n",
       "  </thead>\n",
       "  <tbody>\n",
       "    <tr>\n",
       "      <th>20</th>\n",
       "      <td>876</td>\n",
       "      <td>Adelie</td>\n",
       "      <td>Biscoe</td>\n",
       "      <td>37.8</td>\n",
       "      <td>18.3</td>\n",
       "      <td>Female</td>\n",
       "      <td>3.40</td>\n",
       "      <td>17.4</td>\n",
       "      <td>B</td>\n",
       "      <td>medium</td>\n",
       "      <td>100</td>\n",
       "    </tr>\n",
       "    <tr>\n",
       "      <th>21</th>\n",
       "      <td>712</td>\n",
       "      <td>Adelie</td>\n",
       "      <td>Biscoe</td>\n",
       "      <td>37.7</td>\n",
       "      <td>18.7</td>\n",
       "      <td>M</td>\n",
       "      <td>3.60</td>\n",
       "      <td>18.0</td>\n",
       "      <td>A</td>\n",
       "      <td>medium</td>\n",
       "      <td>100</td>\n",
       "    </tr>\n",
       "    <tr>\n",
       "      <th>22</th>\n",
       "      <td>746</td>\n",
       "      <td>Adelie</td>\n",
       "      <td>Biscoe</td>\n",
       "      <td>35.9</td>\n",
       "      <td>19.2</td>\n",
       "      <td>Female</td>\n",
       "      <td>3.80</td>\n",
       "      <td>18.9</td>\n",
       "      <td>C</td>\n",
       "      <td>medium</td>\n",
       "      <td>100</td>\n",
       "    </tr>\n",
       "    <tr>\n",
       "      <th>23</th>\n",
       "      <td>394</td>\n",
       "      <td>Adelie</td>\n",
       "      <td>Biscoe</td>\n",
       "      <td>38.2</td>\n",
       "      <td>18.1</td>\n",
       "      <td>M</td>\n",
       "      <td>3.95</td>\n",
       "      <td>18.5</td>\n",
       "      <td>A</td>\n",
       "      <td>medium</td>\n",
       "      <td>100</td>\n",
       "    </tr>\n",
       "    <tr>\n",
       "      <th>24</th>\n",
       "      <td>453</td>\n",
       "      <td>Adelie</td>\n",
       "      <td>Biscoe</td>\n",
       "      <td>38.8</td>\n",
       "      <td>17.2</td>\n",
       "      <td>M</td>\n",
       "      <td>3.80</td>\n",
       "      <td>18.0</td>\n",
       "      <td>C</td>\n",
       "      <td>medium</td>\n",
       "      <td>100</td>\n",
       "    </tr>\n",
       "  </tbody>\n",
       "</table>\n",
       "</div>"
      ],
      "text/plain": [
       "    code species  island  bill_length_mm  bill_depth_mm     sex  body_mass_kg  \\\n",
       "20   876  Adelie  Biscoe            37.8           18.3  Female          3.40   \n",
       "21   712  Adelie  Biscoe            37.7           18.7       M          3.60   \n",
       "22   746  Adelie  Biscoe            35.9           19.2  Female          3.80   \n",
       "23   394  Adelie  Biscoe            38.2           18.1       M          3.95   \n",
       "24   453  Adelie  Biscoe            38.8           17.2       M          3.80   \n",
       "\n",
       "    flipper_length_cm observer    size  sample_col  \n",
       "20               17.4        B  medium         100  \n",
       "21               18.0        A  medium         100  \n",
       "22               18.9        C  medium         100  \n",
       "23               18.5        A  medium         100  \n",
       "24               18.0        C  medium         100  "
      ]
     },
     "execution_count": 51,
     "metadata": {},
     "output_type": "execute_result"
    }
   ],
   "source": [
    "biscoe.head()"
   ]
  },
  {
   "cell_type": "code",
   "execution_count": 52,
   "id": "5f7a4ae5-053a-47f1-88b8-0ef8fae2f72d",
   "metadata": {
    "tags": []
   },
   "outputs": [
    {
     "data": {
      "text/html": [
       "<div>\n",
       "<style scoped>\n",
       "    .dataframe tbody tr th:only-of-type {\n",
       "        vertical-align: middle;\n",
       "    }\n",
       "\n",
       "    .dataframe tbody tr th {\n",
       "        vertical-align: top;\n",
       "    }\n",
       "\n",
       "    .dataframe thead th {\n",
       "        text-align: right;\n",
       "    }\n",
       "</style>\n",
       "<table border=\"1\" class=\"dataframe\">\n",
       "  <thead>\n",
       "    <tr style=\"text-align: right;\">\n",
       "      <th></th>\n",
       "      <th>code</th>\n",
       "      <th>species</th>\n",
       "      <th>island</th>\n",
       "      <th>bill_length_mm</th>\n",
       "      <th>bill_depth_mm</th>\n",
       "      <th>sex</th>\n",
       "      <th>body_mass_kg</th>\n",
       "      <th>flipper_length_cm</th>\n",
       "      <th>observer</th>\n",
       "      <th>size</th>\n",
       "    </tr>\n",
       "  </thead>\n",
       "  <tbody>\n",
       "    <tr>\n",
       "      <th>0</th>\n",
       "      <td>186</td>\n",
       "      <td>Adelie</td>\n",
       "      <td>Torgersen</td>\n",
       "      <td>39.1</td>\n",
       "      <td>18.7</td>\n",
       "      <td>M</td>\n",
       "      <td>3.75</td>\n",
       "      <td>18.1</td>\n",
       "      <td>B</td>\n",
       "      <td>medium</td>\n",
       "    </tr>\n",
       "    <tr>\n",
       "      <th>1</th>\n",
       "      <td>999</td>\n",
       "      <td>Adelie</td>\n",
       "      <td>Torgersen</td>\n",
       "      <td>39.5</td>\n",
       "      <td>17.4</td>\n",
       "      <td>Female</td>\n",
       "      <td>3.80</td>\n",
       "      <td>18.6</td>\n",
       "      <td>A</td>\n",
       "      <td>medium</td>\n",
       "    </tr>\n",
       "    <tr>\n",
       "      <th>2</th>\n",
       "      <td>831</td>\n",
       "      <td>Adelie</td>\n",
       "      <td>Torgersen</td>\n",
       "      <td>40.3</td>\n",
       "      <td>18.0</td>\n",
       "      <td>Female</td>\n",
       "      <td>3.25</td>\n",
       "      <td>19.5</td>\n",
       "      <td>B</td>\n",
       "      <td>medium</td>\n",
       "    </tr>\n",
       "    <tr>\n",
       "      <th>3</th>\n",
       "      <td>856</td>\n",
       "      <td>Adelie</td>\n",
       "      <td>Torgersen</td>\n",
       "      <td>38.3</td>\n",
       "      <td>NaN</td>\n",
       "      <td>NaN</td>\n",
       "      <td>NaN</td>\n",
       "      <td>NaN</td>\n",
       "      <td>A</td>\n",
       "      <td>nan</td>\n",
       "    </tr>\n",
       "    <tr>\n",
       "      <th>4</th>\n",
       "      <td>155</td>\n",
       "      <td>Adelie</td>\n",
       "      <td>Torgersen</td>\n",
       "      <td>36.7</td>\n",
       "      <td>19.3</td>\n",
       "      <td>Female</td>\n",
       "      <td>3.45</td>\n",
       "      <td>19.3</td>\n",
       "      <td>A</td>\n",
       "      <td>medium</td>\n",
       "    </tr>\n",
       "  </tbody>\n",
       "</table>\n",
       "</div>"
      ],
      "text/plain": [
       "   code species     island  bill_length_mm  bill_depth_mm     sex  \\\n",
       "0   186  Adelie  Torgersen            39.1           18.7       M   \n",
       "1   999  Adelie  Torgersen            39.5           17.4  Female   \n",
       "2   831  Adelie  Torgersen            40.3           18.0  Female   \n",
       "3   856  Adelie  Torgersen            38.3            NaN     NaN   \n",
       "4   155  Adelie  Torgersen            36.7           19.3  Female   \n",
       "\n",
       "   body_mass_kg  flipper_length_cm observer    size  \n",
       "0          3.75               18.1        B  medium  \n",
       "1          3.80               18.6        A  medium  \n",
       "2          3.25               19.5        B  medium  \n",
       "3           NaN                NaN        A     nan  \n",
       "4          3.45               19.3        A  medium  "
      ]
     },
     "execution_count": 52,
     "metadata": {},
     "output_type": "execute_result"
    }
   ],
   "source": [
    "penguins.head()"
   ]
  },
  {
   "cell_type": "code",
   "execution_count": null,
   "id": "370bcb32-d9b7-4184-aceb-5cc5492e9711",
   "metadata": {},
   "outputs": [],
   "source": []
  }
 ],
 "metadata": {
  "kernelspec": {
   "display_name": "Anaconda 3 (Base)",
   "language": "python",
   "name": "base"
  },
  "language_info": {
   "codemirror_mode": {
    "name": "ipython",
    "version": 3
   },
   "file_extension": ".py",
   "mimetype": "text/x-python",
   "name": "python",
   "nbconvert_exporter": "python",
   "pygments_lexer": "ipython3",
   "version": "3.9.13"
  }
 },
 "nbformat": 4,
 "nbformat_minor": 5
}
