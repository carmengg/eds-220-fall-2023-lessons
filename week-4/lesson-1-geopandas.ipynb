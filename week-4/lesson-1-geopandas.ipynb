{
 "cells": [
  {
   "cell_type": "markdown",
   "id": "1a56e9ff-6f4c-4088-90d1-3de7837b0ebb",
   "metadata": {},
   "source": [
    "# Intro to geopandas\n",
    "\n",
    "GeoPandas is a Python library for geospatial data. \n",
    "\n",
    "Import it with its standard abbreviation:"
   ]
  },
  {
   "cell_type": "code",
   "execution_count": 1,
   "id": "55a20646-9824-488d-af14-134f8ed799cc",
   "metadata": {
    "tags": []
   },
   "outputs": [],
   "source": [
    "# this is the library we will explore\n",
    "import geopandas as gpd\n",
    "\n",
    "# will use for making map\n",
    "import matplotlib.pyplot as plt"
   ]
  },
  {
   "cell_type": "markdown",
   "id": "e27d27d0-5fbf-420b-b5e0-8abb25e1bbab",
   "metadata": {},
   "source": [
    "## Data\n",
    "\n",
    "We will use simplified data about wild pig (*Sus scrofa*) sightings in CA. \n",
    "Data is from Global Biodiversity Information Facility (GBIF).\n",
    "\n",
    "Read in the a shapefile using the `geopandas` function `gpd.read_file()`:"
   ]
  },
  {
   "cell_type": "code",
   "execution_count": 2,
   "id": "5de46c42-5265-4413-9ff5-bdab0639ee1e",
   "metadata": {
    "tags": []
   },
   "outputs": [
    {
     "data": {
      "text/html": [
       "<div>\n",
       "<style scoped>\n",
       "    .dataframe tbody tr th:only-of-type {\n",
       "        vertical-align: middle;\n",
       "    }\n",
       "\n",
       "    .dataframe tbody tr th {\n",
       "        vertical-align: top;\n",
       "    }\n",
       "\n",
       "    .dataframe thead th {\n",
       "        text-align: right;\n",
       "    }\n",
       "</style>\n",
       "<table border=\"1\" class=\"dataframe\">\n",
       "  <thead>\n",
       "    <tr style=\"text-align: right;\">\n",
       "      <th></th>\n",
       "      <th>gbifID</th>\n",
       "      <th>species</th>\n",
       "      <th>state</th>\n",
       "      <th>individual</th>\n",
       "      <th>day</th>\n",
       "      <th>month</th>\n",
       "      <th>year</th>\n",
       "      <th>inst</th>\n",
       "      <th>collection</th>\n",
       "      <th>catalogNum</th>\n",
       "      <th>identified</th>\n",
       "      <th>geometry</th>\n",
       "    </tr>\n",
       "  </thead>\n",
       "  <tbody>\n",
       "    <tr>\n",
       "      <th>0</th>\n",
       "      <td>899953814</td>\n",
       "      <td>Sus scrofa</td>\n",
       "      <td>California</td>\n",
       "      <td>NaN</td>\n",
       "      <td>22.0</td>\n",
       "      <td>3.0</td>\n",
       "      <td>2014.0</td>\n",
       "      <td>iNaturalist</td>\n",
       "      <td>Observations</td>\n",
       "      <td>581956</td>\n",
       "      <td>edwardrooks</td>\n",
       "      <td>POINT (-121.53812 37.08846)</td>\n",
       "    </tr>\n",
       "    <tr>\n",
       "      <th>1</th>\n",
       "      <td>899951348</td>\n",
       "      <td>Sus scrofa</td>\n",
       "      <td>California</td>\n",
       "      <td>NaN</td>\n",
       "      <td>9.0</td>\n",
       "      <td>6.0</td>\n",
       "      <td>2007.0</td>\n",
       "      <td>iNaturalist</td>\n",
       "      <td>Observations</td>\n",
       "      <td>576047</td>\n",
       "      <td>Bruce Freeman</td>\n",
       "      <td>POINT (-120.54942 35.47354)</td>\n",
       "    </tr>\n",
       "    <tr>\n",
       "      <th>2</th>\n",
       "      <td>896560733</td>\n",
       "      <td>Sus scrofa</td>\n",
       "      <td>California</td>\n",
       "      <td>NaN</td>\n",
       "      <td>20.0</td>\n",
       "      <td>12.0</td>\n",
       "      <td>1937.0</td>\n",
       "      <td>MVZ</td>\n",
       "      <td>Hild</td>\n",
       "      <td>MVZ:Hild:195</td>\n",
       "      <td>Museum of Vertebrate Zoology, University of Ca...</td>\n",
       "      <td>POINT (-122.27063 37.87610)</td>\n",
       "    </tr>\n",
       "    <tr>\n",
       "      <th>3</th>\n",
       "      <td>896559958</td>\n",
       "      <td>Sus scrofa</td>\n",
       "      <td>California</td>\n",
       "      <td>NaN</td>\n",
       "      <td>1.0</td>\n",
       "      <td>4.0</td>\n",
       "      <td>1969.0</td>\n",
       "      <td>MVZ</td>\n",
       "      <td>Hild</td>\n",
       "      <td>MVZ:Hild:1213</td>\n",
       "      <td>Museum of Vertebrate Zoology, University of Ca...</td>\n",
       "      <td>POINT (-121.82297 38.44543)</td>\n",
       "    </tr>\n",
       "    <tr>\n",
       "      <th>4</th>\n",
       "      <td>896559722</td>\n",
       "      <td>Sus scrofa</td>\n",
       "      <td>California</td>\n",
       "      <td>NaN</td>\n",
       "      <td>1.0</td>\n",
       "      <td>1.0</td>\n",
       "      <td>1961.0</td>\n",
       "      <td>MVZ</td>\n",
       "      <td>Hild</td>\n",
       "      <td>MVZ:Hild:1004</td>\n",
       "      <td>Museum of Vertebrate Zoology, University of Ca...</td>\n",
       "      <td>POINT (-121.74559 38.54882)</td>\n",
       "    </tr>\n",
       "  </tbody>\n",
       "</table>\n",
       "</div>"
      ],
      "text/plain": [
       "      gbifID     species       state  individual   day  month    year  \\\n",
       "0  899953814  Sus scrofa  California         NaN  22.0    3.0  2014.0   \n",
       "1  899951348  Sus scrofa  California         NaN   9.0    6.0  2007.0   \n",
       "2  896560733  Sus scrofa  California         NaN  20.0   12.0  1937.0   \n",
       "3  896559958  Sus scrofa  California         NaN   1.0    4.0  1969.0   \n",
       "4  896559722  Sus scrofa  California         NaN   1.0    1.0  1961.0   \n",
       "\n",
       "          inst    collection     catalogNum  \\\n",
       "0  iNaturalist  Observations         581956   \n",
       "1  iNaturalist  Observations         576047   \n",
       "2          MVZ          Hild   MVZ:Hild:195   \n",
       "3          MVZ          Hild  MVZ:Hild:1213   \n",
       "4          MVZ          Hild  MVZ:Hild:1004   \n",
       "\n",
       "                                          identified  \\\n",
       "0                                        edwardrooks   \n",
       "1                                      Bruce Freeman   \n",
       "2  Museum of Vertebrate Zoology, University of Ca...   \n",
       "3  Museum of Vertebrate Zoology, University of Ca...   \n",
       "4  Museum of Vertebrate Zoology, University of Ca...   \n",
       "\n",
       "                      geometry  \n",
       "0  POINT (-121.53812 37.08846)  \n",
       "1  POINT (-120.54942 35.47354)  \n",
       "2  POINT (-122.27063 37.87610)  \n",
       "3  POINT (-121.82297 38.44543)  \n",
       "4  POINT (-121.74559 38.54882)  "
      ]
     },
     "execution_count": 2,
     "metadata": {},
     "output_type": "execute_result"
    }
   ],
   "source": [
    "# read in data\n",
    "pigs = gpd.read_file('data/gbif_sus_scroga_california/gbif_sus_scroga_california.shp')\n",
    "\n",
    "pigs.head()"
   ]
  },
  {
   "cell_type": "markdown",
   "id": "537de786-5833-4297-82ef-2ccd7b750a1b",
   "metadata": {},
   "source": [
    "## `Geoseries` and `GeoDataFrame`\n",
    "\n",
    "Core data structure of GeoPandas is `geopandas.GeoDataFrame`\n",
    "\n",
    "`geopandas.GeoDataFrame` = think of it as a `pandas.DataFrame` with a dedicated geometry column. \n",
    "\n",
    "The **geometry column** in a `gpd.GeoDataFrame` holds the geometry (point, polygon, etc) of each spatial feature.  This column is og type `geopandas.GeoSeries`.\n",
    "\n",
    "The other non-geometry columns in the geodaframe are our usual `pd.Series` type."
   ]
  },
  {
   "cell_type": "code",
   "execution_count": 3,
   "id": "e7ef40fa-26bf-4ec4-bc19-15d2e7ed8979",
   "metadata": {
    "tags": []
   },
   "outputs": [
    {
     "name": "stdout",
     "output_type": "stream",
     "text": [
      "<class 'geopandas.geodataframe.GeoDataFrame'>\n",
      "<class 'geopandas.geoseries.GeoSeries'>\n",
      "<class 'pandas.core.series.Series'>\n"
     ]
    }
   ],
   "source": [
    "# type of pigs dataframe\n",
    "print(type(pigs))\n",
    "\n",
    "# type of the geometry column\n",
    "print(type(pigs.geometry))\n",
    "\n",
    "# type of the gbifID column\n",
    "print(type(pigs.gbifID))"
   ]
  },
  {
   "cell_type": "markdown",
   "id": "df1b000b-faff-4495-8f80-b89a69e3a412",
   "metadata": {},
   "source": [
    "The new data type of the geometry column is reflected in the `dtypes`"
   ]
  },
  {
   "cell_type": "code",
   "execution_count": 4,
   "id": "f874933c-7b69-40f1-a664-988a2ce81f44",
   "metadata": {
    "tags": []
   },
   "outputs": [
    {
     "data": {
      "text/plain": [
       "gbifID           int64\n",
       "species         object\n",
       "state           object\n",
       "individual     float64\n",
       "day            float64\n",
       "month          float64\n",
       "year           float64\n",
       "inst            object\n",
       "collection      object\n",
       "catalogNum      object\n",
       "identified      object\n",
       "geometry      geometry\n",
       "dtype: object"
      ]
     },
     "execution_count": 4,
     "metadata": {},
     "output_type": "execute_result"
    }
   ],
   "source": [
    "# check the data type of the columns\n",
    "pigs.dtypes"
   ]
  },
  {
   "cell_type": "markdown",
   "id": "07dcfbb3-412e-4c42-a147-38e0dc808139",
   "metadata": {},
   "source": [
    "## Geometric information \n",
    "\n",
    "Two other important attributes of a `gpd.GeoDataFrame` are uts coordinate reference system (CRS) and its extent. \n",
    "\n",
    "Think of the CRS as instructions to locate each feature on the surface of the Earth. \n",
    "\n",
    "We can access the CRS of the the geo-dataframe using te `crs` attribute:"
   ]
  },
  {
   "cell_type": "code",
   "execution_count": 5,
   "id": "24aa7932-97bf-4477-b5d5-e26a6e6e9841",
   "metadata": {
    "tags": []
   },
   "outputs": [
    {
     "data": {
      "text/plain": [
       "<Geographic 2D CRS: EPSG:4326>\n",
       "Name: WGS 84\n",
       "Axis Info [ellipsoidal]:\n",
       "- Lat[north]: Geodetic latitude (degree)\n",
       "- Lon[east]: Geodetic longitude (degree)\n",
       "Area of Use:\n",
       "- name: World\n",
       "- bounds: (-180.0, -90.0, 180.0, 90.0)\n",
       "Datum: World Geodetic System 1984\n",
       "- Ellipsoid: WGS 84\n",
       "- Prime Meridian: Greenwich"
      ]
     },
     "execution_count": 5,
     "metadata": {},
     "output_type": "execute_result"
    }
   ],
   "source": [
    "# access CRS \n",
    "pigs.crs"
   ]
  },
  {
   "cell_type": "markdown",
   "id": "6c8b294e-e871-44a0-8157-e88918b8ebe7",
   "metadata": {},
   "source": [
    "The **extent** of the geo-dataframe is the bounding box covering *all* of the features in our geo-dataframe. \n",
    "\n",
    "We access information to create the extent of a geo-dataframe using the `total_bounds` attribute"
   ]
  },
  {
   "cell_type": "code",
   "execution_count": 6,
   "id": "75dc02cb-e88b-4ce4-9072-d7b463c3e97a",
   "metadata": {
    "tags": []
   },
   "outputs": [
    {
     "data": {
      "text/plain": [
       "array([-124.29448 ,   32.593433, -115.4356  ,   40.934296])"
      ]
     },
     "execution_count": 6,
     "metadata": {},
     "output_type": "execute_result"
    }
   ],
   "source": [
    "pigs.total_bounds"
   ]
  },
  {
   "cell_type": "markdown",
   "id": "6258f4e2-eec7-4172-9938-14876f7f829e",
   "metadata": {},
   "source": [
    "## Data wrangling\n",
    "\n",
    "Geopandas is built on top of `pandas`, so (almost) everythin gwe have learned about wrangling pandas data, still applies here. \n",
    "\n",
    "**Example**\n",
    "\n",
    "We only want to use recent data for the wild pig observations. "
   ]
  },
  {
   "cell_type": "code",
   "execution_count": 7,
   "id": "757a334b-fb28-4253-89a0-bab014cf6d45",
   "metadata": {
    "tags": []
   },
   "outputs": [
    {
     "data": {
      "text/plain": [
       "1818.0     31\n",
       "1910.0      1\n",
       "1925.0      1\n",
       "1927.0      4\n",
       "1929.0      3\n",
       "         ... \n",
       "2019.0    101\n",
       "2020.0    159\n",
       "2021.0    164\n",
       "2022.0    185\n",
       "2023.0     98\n",
       "Name: year, Length: 61, dtype: int64"
      ]
     },
     "execution_count": 7,
     "metadata": {},
     "output_type": "execute_result"
    }
   ],
   "source": [
    "# what years do we have?\n",
    "pigs.year.value_counts().sort_index()"
   ]
  },
  {
   "cell_type": "markdown",
   "id": "a5045208-f2b5-4e38-b738-114c0b721804",
   "metadata": {},
   "source": [
    "We can use our usual data selection"
   ]
  },
  {
   "cell_type": "code",
   "execution_count": 8,
   "id": "7cb06162-d182-4b6e-a967-03a88626ba0a",
   "metadata": {
    "tags": []
   },
   "outputs": [
    {
     "name": "stdout",
     "output_type": "stream",
     "text": [
      "1046\n",
      "606\n"
     ]
    },
    {
     "data": {
      "text/html": [
       "<div>\n",
       "<style scoped>\n",
       "    .dataframe tbody tr th:only-of-type {\n",
       "        vertical-align: middle;\n",
       "    }\n",
       "\n",
       "    .dataframe tbody tr th {\n",
       "        vertical-align: top;\n",
       "    }\n",
       "\n",
       "    .dataframe thead th {\n",
       "        text-align: right;\n",
       "    }\n",
       "</style>\n",
       "<table border=\"1\" class=\"dataframe\">\n",
       "  <thead>\n",
       "    <tr style=\"text-align: right;\">\n",
       "      <th></th>\n",
       "      <th>gbifID</th>\n",
       "      <th>species</th>\n",
       "      <th>state</th>\n",
       "      <th>individual</th>\n",
       "      <th>day</th>\n",
       "      <th>month</th>\n",
       "      <th>year</th>\n",
       "      <th>inst</th>\n",
       "      <th>collection</th>\n",
       "      <th>catalogNum</th>\n",
       "      <th>identified</th>\n",
       "      <th>geometry</th>\n",
       "    </tr>\n",
       "  </thead>\n",
       "  <tbody>\n",
       "    <tr>\n",
       "      <th>61</th>\n",
       "      <td>4424675671</td>\n",
       "      <td>Sus scrofa</td>\n",
       "      <td>California</td>\n",
       "      <td>NaN</td>\n",
       "      <td>23.0</td>\n",
       "      <td>9.0</td>\n",
       "      <td>2023.0</td>\n",
       "      <td>iNaturalist</td>\n",
       "      <td>Observations</td>\n",
       "      <td>186357811</td>\n",
       "      <td>madamcoyote</td>\n",
       "      <td>POINT (-124.28580 40.32482)</td>\n",
       "    </tr>\n",
       "    <tr>\n",
       "      <th>62</th>\n",
       "      <td>4424357894</td>\n",
       "      <td>Sus scrofa</td>\n",
       "      <td>California</td>\n",
       "      <td>NaN</td>\n",
       "      <td>6.0</td>\n",
       "      <td>10.0</td>\n",
       "      <td>2023.0</td>\n",
       "      <td>iNaturalist</td>\n",
       "      <td>Observations</td>\n",
       "      <td>186474363</td>\n",
       "      <td>skullroy</td>\n",
       "      <td>POINT (-120.82724 35.34895)</td>\n",
       "    </tr>\n",
       "    <tr>\n",
       "      <th>63</th>\n",
       "      <td>4424357588</td>\n",
       "      <td>Sus scrofa</td>\n",
       "      <td>California</td>\n",
       "      <td>NaN</td>\n",
       "      <td>5.0</td>\n",
       "      <td>10.0</td>\n",
       "      <td>2023.0</td>\n",
       "      <td>iNaturalist</td>\n",
       "      <td>Observations</td>\n",
       "      <td>186333783</td>\n",
       "      <td>Brian Ahern</td>\n",
       "      <td>POINT (-121.71683 37.34602)</td>\n",
       "    </tr>\n",
       "    <tr>\n",
       "      <th>64</th>\n",
       "      <td>4424288359</td>\n",
       "      <td>Sus scrofa</td>\n",
       "      <td>California</td>\n",
       "      <td>NaN</td>\n",
       "      <td>7.0</td>\n",
       "      <td>10.0</td>\n",
       "      <td>2023.0</td>\n",
       "      <td>iNaturalist</td>\n",
       "      <td>Observations</td>\n",
       "      <td>186602594</td>\n",
       "      <td>Steph</td>\n",
       "      <td>POINT (-119.62832 37.28900)</td>\n",
       "    </tr>\n",
       "    <tr>\n",
       "      <th>65</th>\n",
       "      <td>4424285723</td>\n",
       "      <td>Sus scrofa</td>\n",
       "      <td>California</td>\n",
       "      <td>NaN</td>\n",
       "      <td>5.0</td>\n",
       "      <td>10.0</td>\n",
       "      <td>2023.0</td>\n",
       "      <td>iNaturalist</td>\n",
       "      <td>Observations</td>\n",
       "      <td>186479844</td>\n",
       "      <td>natleecrockett</td>\n",
       "      <td>POINT (-121.77317 37.50025)</td>\n",
       "    </tr>\n",
       "  </tbody>\n",
       "</table>\n",
       "</div>"
      ],
      "text/plain": [
       "        gbifID     species       state  individual   day  month    year  \\\n",
       "61  4424675671  Sus scrofa  California         NaN  23.0    9.0  2023.0   \n",
       "62  4424357894  Sus scrofa  California         NaN   6.0   10.0  2023.0   \n",
       "63  4424357588  Sus scrofa  California         NaN   5.0   10.0  2023.0   \n",
       "64  4424288359  Sus scrofa  California         NaN   7.0   10.0  2023.0   \n",
       "65  4424285723  Sus scrofa  California         NaN   5.0   10.0  2023.0   \n",
       "\n",
       "           inst    collection catalogNum      identified  \\\n",
       "61  iNaturalist  Observations  186357811     madamcoyote   \n",
       "62  iNaturalist  Observations  186474363        skullroy   \n",
       "63  iNaturalist  Observations  186333783     Brian Ahern   \n",
       "64  iNaturalist  Observations  186602594           Steph   \n",
       "65  iNaturalist  Observations  186479844  natleecrockett   \n",
       "\n",
       "                       geometry  \n",
       "61  POINT (-124.28580 40.32482)  \n",
       "62  POINT (-120.82724 35.34895)  \n",
       "63  POINT (-121.71683 37.34602)  \n",
       "64  POINT (-119.62832 37.28900)  \n",
       "65  POINT (-121.77317 37.50025)  "
      ]
     },
     "execution_count": 8,
     "metadata": {},
     "output_type": "execute_result"
    }
   ],
   "source": [
    "# select data from 2020 onwards\n",
    "pigs_recent = pigs[pigs.year>=2020]\n",
    "\n",
    "# print length of original dataframe\n",
    "print(len(pigs))\n",
    "\n",
    "# pring length of subset\n",
    "print(len(pigs_recent))\n",
    "\n",
    "pigs_recent.head()"
   ]
  },
  {
   "cell_type": "markdown",
   "id": "6c0a623a-a216-40c0-84e4-0feadfb6d0d5",
   "metadata": {},
   "source": [
    "## Plotting \n",
    "\n",
    "### `plot()`\n",
    "\n",
    "`gpd.GeoDataFrame` has a `plot()` method that we can call directly to create a quick view of the data. \n",
    "\n",
    "The geospatial infomration will be automatically used to create the axes of the plot\n",
    "\n",
    "**Example**\n",
    "\n",
    "Quick plot of recent wild pig sightings:"
   ]
  },
  {
   "cell_type": "code",
   "execution_count": 9,
   "id": "7a9ad51d-f468-4b75-9e37-92e21b9c659e",
   "metadata": {
    "tags": []
   },
   "outputs": [
    {
     "data": {
      "text/plain": [
       "<AxesSubplot:>"
      ]
     },
     "execution_count": 9,
     "metadata": {},
     "output_type": "execute_result"
    },
    {
     "data": {
      "image/png": "[encoded data removed]",
      "text/plain": [
       "<Figure size 640x480 with 1 Axes>"
      ]
     },
     "metadata": {},
     "output_type": "display_data"
    }
   ],
   "source": [
    "pigs_recent.plot()"
   ]
  },
  {
   "cell_type": "markdown",
   "id": "dd1da8f8-a264-475c-a864-71f598be6ee6",
   "metadata": {},
   "source": [
    "### `matplotlib`'s `fig` and `ax`\n",
    "\n",
    "We use `matplotlib` to create more complex, customized graphs. In particular, maps.\n",
    "\n",
    "We can interact wit `matplotlib` via its `pyplot` interface, which we imported as\n",
    "\n",
    "```python\n",
    "import matplotlib.pyplot as plt\n",
    "```\n",
    "\n",
    "Matplotlib graphs the data in a **figure** which can have one or more **axes**. \n",
    "The axis is *only* the area specifyed by the x-y axis and what is plotted in it. \n",
    "To initalize a blank figure:\n",
    "\n",
    "1.  Initialize a blank figure and axes by calling `pyplot`'s `subplots()` function, and\n",
    "2. show the graph using `plt.show()`"
   ]
  },
  {
   "cell_type": "code",
   "execution_count": 10,
   "id": "83560f6d-adb1-427e-a590-2913a7e1c2d5",
   "metadata": {
    "tags": []
   },
   "outputs": [
    {
     "data": {
      "image/png": "[encoded data removed]",
      "text/plain": [
       "<Figure size 640x480 with 1 Axes>"
      ]
     },
     "metadata": {},
     "output_type": "display_data"
    }
   ],
   "source": [
    "# create a blank figure (fig) and an empty axis (ax)\n",
    "fig, ax = plt.subplots()\n",
    "\n",
    "# display figure\n",
    "plt.show()"
   ]
  },
  {
   "cell_type": "markdown",
   "id": "5a9654c3-50ed-4997-bb7f-4dbee1bbcad8",
   "metadata": {},
   "source": [
    "## Adding a layer\n",
    "\n",
    "When using `matplotlib` it can be useful to think of creating a plot, as adding layers to an axis. \n",
    "\n",
    "The general syntax to plot a dataframe `df` onto an axis is:\n",
    "```python\n",
    "# create a new figure\n",
    "fig, ax = plt.subplots()\n",
    "\n",
    "# plot df on the ax axis\n",
    "df.plot(ax=ax, \n",
    "        ...) # other arguments for plot function\n",
    "\n",
    "# display figure\n",
    "plt.show()\n",
    "```\n",
    "\n",
    "**Example** \n",
    "\n",
    "The first layer we want to add to our axis is the `pigs_recent` point data."
   ]
  },
  {
   "cell_type": "code",
   "execution_count": 11,
   "id": "2cea6a05-576a-46c4-89a0-a39407dbb65a",
   "metadata": {
    "tags": []
   },
   "outputs": [
    {
     "data": {
      "image/png": "[encoded data removed]",
      "text/plain": [
       "<Figure size 640x480 with 1 Axes>"
      ]
     },
     "metadata": {},
     "output_type": "display_data"
    }
   ],
   "source": [
    "# create a new figure and axis\n",
    "fig, ax = plt.subplots()\n",
    "\n",
    "# add pigs point plot to our figure's axis\n",
    "pigs_recent.plot(ax=ax)\n",
    "\n",
    "# display figure\n",
    "plt.show()"
   ]
  },
  {
   "cell_type": "markdown",
   "id": "37a4a072-64eb-4d27-b19c-b1163c99d767",
   "metadata": {},
   "source": [
    "### Customization\n",
    "\n",
    "Matplotlib allows for a lot of customization. \n",
    "Some can be done directly in the `plot()` function (like we did with plotting pandas dataframes), while\n",
    "other is done by updating attributes from the axis `ax`. \n",
    "\n",
    "some basic cusotmization of our pigs data:"
   ]
  },
  {
   "cell_type": "code",
   "execution_count": 12,
   "id": "e7579dd6-a26a-4a98-94f0-e99415fd307c",
   "metadata": {
    "tags": []
   },
   "outputs": [
    {
     "data": {
      "image/png": "[encoded data removed]",
      "text/plain": [
       "<Figure size 640x480 with 1 Axes>"
      ]
     },
     "metadata": {},
     "output_type": "display_data"
    }
   ],
   "source": [
    "# initialize an empty figure\n",
    "fig, ax = plt.subplots()\n",
    "\n",
    "# add data to axis\n",
    "# notice customization happens as arguments in plot()\n",
    "pigs_recent.plot(ax=ax,\n",
    "                alpha=0.5,\n",
    "                color='red')\n",
    "\n",
    "# update axis\n",
    "# customization separate from the data plotting\n",
    "ax.set_title('Reported \"Sus scrofa\" sightings in CA (2020-2023)')\n",
    "ax.set_xlabel('Longitude')\n",
    "ax.set_ylabel('Latitude')\n",
    "\n",
    "# display figure\n",
    "plt.show()"
   ]
  },
  {
   "cell_type": "markdown",
   "id": "d880fd3d-5fbd-41eb-addc-288313c41eb4",
   "metadata": {},
   "source": [
    "## Exercise\n",
    "\n",
    "1. Open the CA boundary shapefile and store as ca_boundary variable. How many features does it have?\n",
    "2. Add it to the pig sightings graph so that the CA boundary appears behind the points."
   ]
  },
  {
   "cell_type": "code",
   "execution_count": 13,
   "id": "c612052e-6a7b-4ab9-8c3c-9256eb1311fd",
   "metadata": {
    "tags": []
   },
   "outputs": [
    {
     "data": {
      "text/html": [
       "<div>\n",
       "<style scoped>\n",
       "    .dataframe tbody tr th:only-of-type {\n",
       "        vertical-align: middle;\n",
       "    }\n",
       "\n",
       "    .dataframe tbody tr th {\n",
       "        vertical-align: top;\n",
       "    }\n",
       "\n",
       "    .dataframe thead th {\n",
       "        text-align: right;\n",
       "    }\n",
       "</style>\n",
       "<table border=\"1\" class=\"dataframe\">\n",
       "  <thead>\n",
       "    <tr style=\"text-align: right;\">\n",
       "      <th></th>\n",
       "      <th>REGION</th>\n",
       "      <th>DIVISION</th>\n",
       "      <th>STATEFP</th>\n",
       "      <th>STATENS</th>\n",
       "      <th>GEOID</th>\n",
       "      <th>STUSPS</th>\n",
       "      <th>NAME</th>\n",
       "      <th>LSAD</th>\n",
       "      <th>MTFCC</th>\n",
       "      <th>FUNCSTAT</th>\n",
       "      <th>ALAND</th>\n",
       "      <th>AWATER</th>\n",
       "      <th>INTPTLAT</th>\n",
       "      <th>INTPTLON</th>\n",
       "      <th>geometry</th>\n",
       "    </tr>\n",
       "  </thead>\n",
       "  <tbody>\n",
       "    <tr>\n",
       "      <th>0</th>\n",
       "      <td>4</td>\n",
       "      <td>9</td>\n",
       "      <td>06</td>\n",
       "      <td>01779778</td>\n",
       "      <td>06</td>\n",
       "      <td>CA</td>\n",
       "      <td>California</td>\n",
       "      <td>00</td>\n",
       "      <td>G4000</td>\n",
       "      <td>A</td>\n",
       "      <td>403501101370</td>\n",
       "      <td>20466718403</td>\n",
       "      <td>+37.1551773</td>\n",
       "      <td>-119.5434183</td>\n",
       "      <td>MULTIPOLYGON (((-119.63473 33.26545, -119.6363...</td>\n",
       "    </tr>\n",
       "  </tbody>\n",
       "</table>\n",
       "</div>"
      ],
      "text/plain": [
       "  REGION DIVISION STATEFP   STATENS GEOID STUSPS        NAME LSAD  MTFCC  \\\n",
       "0      4        9      06  01779778    06     CA  California   00  G4000   \n",
       "\n",
       "  FUNCSTAT         ALAND       AWATER     INTPTLAT      INTPTLON  \\\n",
       "0        A  403501101370  20466718403  +37.1551773  -119.5434183   \n",
       "\n",
       "                                            geometry  \n",
       "0  MULTIPOLYGON (((-119.63473 33.26545, -119.6363...  "
      ]
     },
     "execution_count": 13,
     "metadata": {},
     "output_type": "execute_result"
    }
   ],
   "source": [
    "ca_boundary = gpd.read_file('data/ca-boundary/ca-boundary.shp')\n",
    "ca_boundary"
   ]
  },
  {
   "cell_type": "code",
   "execution_count": 14,
   "id": "591a28b1-bb13-4b0e-b5d1-9d10a9e7e46f",
   "metadata": {
    "tags": []
   },
   "outputs": [
    {
     "data": {
      "text/plain": [
       "0    MultiPolygon\n",
       "dtype: object"
      ]
     },
     "execution_count": 14,
     "metadata": {},
     "output_type": "execute_result"
    }
   ],
   "source": [
    "# geom_type will show what kind of vector data is stored in each feature of the geometry column\n",
    "ca_boundary.geom_type"
   ]
  },
  {
   "cell_type": "code",
   "execution_count": 15,
   "id": "2d4f0b0f-03a9-49ac-93b7-ffa40e0598b7",
   "metadata": {
    "tags": []
   },
   "outputs": [
    {
     "data": {
      "text/plain": [
       "0       Point\n",
       "1       Point\n",
       "2       Point\n",
       "3       Point\n",
       "4       Point\n",
       "        ...  \n",
       "1041    Point\n",
       "1042    Point\n",
       "1043    Point\n",
       "1044    Point\n",
       "1045    Point\n",
       "Length: 1046, dtype: object"
      ]
     },
     "execution_count": 15,
     "metadata": {},
     "output_type": "execute_result"
    }
   ],
   "source": [
    "pigs.geom_type"
   ]
  },
  {
   "cell_type": "code",
   "execution_count": 16,
   "id": "5e3b1d9d-56f6-4a4e-b081-5cbac28b0049",
   "metadata": {
    "tags": []
   },
   "outputs": [
    {
     "data": {
      "image/png": "[encoded data removed]",
      "text/plain": [
       "<Figure size 640x480 with 1 Axes>"
      ]
     },
     "metadata": {},
     "output_type": "display_data"
    }
   ],
   "source": [
    "# initialize an empty figure \n",
    "fig, ax = plt.subplots()\n",
    "\n",
    "# add layers\n",
    "# add CA boundary\n",
    "ca_boundary.plot(ax = ax,\n",
    "                color = 'none',\n",
    "                edgecolor = '#362312')\n",
    "\n",
    "# add pig point data\n",
    "pigs_recent.plot(ax = ax,\n",
    "                alpha = .5,\n",
    "                color = '#FF5768',\n",
    "                edgecolor = '#FFBF65')\n",
    "\n",
    "# customization\n",
    "ax.set_title('Reported \"Sus scrofa\" sightings in CA (2020-2023)')\n",
    "ax.set_xlabel('longitude')\n",
    "ax.set_ylabel('latitude')\n",
    "\n",
    "# display figure\n",
    "plt.show()"
   ]
  },
  {
   "cell_type": "code",
   "execution_count": null,
   "id": "c963b6bf-4a93-4af3-85fc-6fca7b2ac8d5",
   "metadata": {},
   "outputs": [],
   "source": []
  }
 ],
 "metadata": {
  "kernelspec": {
   "display_name": "Anaconda 3 (Base)",
   "language": "python",
   "name": "base"
  },
  "language_info": {
   "codemirror_mode": {
    "name": "ipython",
    "version": 3
   },
   "file_extension": ".py",
   "mimetype": "text/x-python",
   "name": "python",
   "nbconvert_exporter": "python",
   "pygments_lexer": "ipython3",
   "version": "3.9.13"
  }
 },
 "nbformat": 4,
 "nbformat_minor": 5
}
