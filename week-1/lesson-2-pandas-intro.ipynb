{
 "cells": [
  {
   "cell_type": "markdown",
   "id": "864cb322-c97c-4657-bd8c-2640a0c1d420",
   "metadata": {},
   "source": [
    "October 4th, 2023\n",
    "\n",
    "# Objective\n",
    "\n",
    "Review core `pandas` objects: `pandas.Series` and `pandas.DataFrame`\n",
    "\n",
    "#`pandas`\n",
    "- Python package to wrangle and analyze tabular data\n",
    "- built on top of NumPy\n",
    "- core tool for data analysis in Python"
   ]
  },
  {
   "cell_type": "code",
   "execution_count": 1,
   "id": "21f03ace-3fd5-4e3e-b073-74a756ee1dce",
   "metadata": {
    "tags": []
   },
   "outputs": [],
   "source": [
    "# import pandas with standard abbreviation\n",
    "import pandas as pd\n",
    "\n",
    "# import numpy too!\n",
    "import numpy as np"
   ]
  },
  {
   "cell_type": "markdown",
   "id": "8ed14f16-a66e-4e46-b0a2-2d9a704e0f1b",
   "metadata": {},
   "source": [
    "# Series\n",
    "\n",
    "A `pandas.Series`:\n",
    "\n",
    "- is one of the core data structures in `pandas`\n",
    "- a 1-dimensional array of *indexed* data\n",
    "- will be the columns of the `pandas.DataFrame`\n",
    "\n",
    "# Creating a pandas Series\n",
    "\n",
    "Several ways of creating a pandas Series. \n",
    "For now, we will create series using:\n",
    "\n",
    "```\n",
    "s = pd.Series(data, index=index)\n",
    "```\n",
    "\n",
    "- `data` = numpy array (or a list of objects that can be converted to NumPy types)\n",
    "- `index` = a list of indices of same lenght as data\n"
   ]
  },
  {
   "cell_type": "code",
   "execution_count": 2,
   "id": "d379f966-42d5-4bb0-8bc8-3b3b1efb4d6a",
   "metadata": {
    "tags": []
   },
   "outputs": [
    {
     "data": {
      "text/plain": [
       "array([0, 1, 2])"
      ]
     },
     "execution_count": 2,
     "metadata": {},
     "output_type": "execute_result"
    }
   ],
   "source": [
    "# EX: a pandas series from a numpy array\n",
    "\n",
    "# np.arange() function constructs an array of consecutive integers\n",
    "np.arange(3)"
   ]
  },
  {
   "cell_type": "code",
   "execution_count": 3,
   "id": "f85d5dc1-d16d-4d0d-9334-3db598a2be9d",
   "metadata": {
    "tags": []
   },
   "outputs": [
    {
     "data": {
      "text/plain": [
       "a    0\n",
       "b    1\n",
       "c    2\n",
       "dtype: int64"
      ]
     },
     "execution_count": 3,
     "metadata": {},
     "output_type": "execute_result"
    }
   ],
   "source": [
    "# we can use this to create a pandas Series\n",
    "pd.Series(np.arange(3), index=['a','b','c'])"
   ]
  },
  {
   "cell_type": "markdown",
   "id": "b1a90eb4-ac70-4632-987f-344934883926",
   "metadata": {},
   "source": [
    "What kind of parameter is `index`? \n",
    "\n",
    "A: an optional parameter, there is a default value to it. \n",
    "\n",
    "If we don't specify `index`, the default is to start the index from 0.\n",
    "\n",
    "Example:"
   ]
  },
  {
   "cell_type": "code",
   "execution_count": 4,
   "id": "19422d5e-c1ba-44df-ad47-1fe05d2deddd",
   "metadata": {
    "tags": []
   },
   "outputs": [
    {
     "data": {
      "text/plain": [
       "0    EDS 220\n",
       "1    EDS 222\n",
       "2    EDS 223\n",
       "3    EDS 242\n",
       "dtype: object"
      ]
     },
     "execution_count": 4,
     "metadata": {},
     "output_type": "execute_result"
    }
   ],
   "source": [
    "# create a series from a list of strings with default index\n",
    "pd.Series(['EDS 220', 'EDS 222', 'EDS 223', 'EDS 242'])"
   ]
  },
  {
   "cell_type": "markdown",
   "id": "c7b8b19e-02a6-42fa-a64b-0167ef0ae89f",
   "metadata": {},
   "source": [
    "# Operations of series\n",
    "\n",
    "Arithmetic operations work on series on also most NumPy functions.\n",
    "\n",
    "Example:"
   ]
  },
  {
   "cell_type": "code",
   "execution_count": 7,
   "id": "7ac421ad-0efa-418b-9ab5-c7fd2736f868",
   "metadata": {
    "tags": []
   },
   "outputs": [
    {
     "name": "stdout",
     "output_type": "stream",
     "text": [
      "Andrea      98\n",
      "Beth        73\n",
      "Carolina    65\n",
      "dtype: int64 \n",
      "\n",
      "Andrea      9.8\n",
      "Beth        7.3\n",
      "Carolina    6.5\n",
      "dtype: float64\n"
     ]
    }
   ],
   "source": [
    "# define a series\n",
    "s = pd.Series( [98, 73, 65], index=['Andrea', 'Beth', 'Carolina'])\n",
    "print(s, '\\n')\n",
    "\n",
    "# divide each element in the series by 10:\n",
    "print( s/10  )"
   ]
  },
  {
   "cell_type": "markdown",
   "id": "3d66752d-20cf-4506-8b7d-afe7c8a96e90",
   "metadata": {},
   "source": [
    "Example: create a new Series with `True`/`False` values indicating whether the elements in the series satisfy a condition or not.\n"
   ]
  },
  {
   "cell_type": "code",
   "execution_count": 8,
   "id": "8ccbcc28-c77a-47d8-896a-b3aaf918a696",
   "metadata": {
    "tags": []
   },
   "outputs": [
    {
     "data": {
      "text/plain": [
       "Andrea       True\n",
       "Beth         True\n",
       "Carolina    False\n",
       "dtype: bool"
      ]
     },
     "execution_count": 8,
     "metadata": {},
     "output_type": "execute_result"
    }
   ],
   "source": [
    "s>70"
   ]
  },
  {
   "cell_type": "markdown",
   "id": "54235fab-1d6f-4208-8690-b42d87fdb41a",
   "metadata": {},
   "source": [
    "This is simple -- but important!! Using conditions on Series is key to select data from dataframes. "
   ]
  },
  {
   "cell_type": "markdown",
   "id": "eee959e4-191b-4e0c-a98d-594ff4a6d0fd",
   "metadata": {},
   "source": [
    "## Attributes & Methods\n",
    "\n",
    "Two examples about identifying missing values. \n",
    "\n",
    "- missing values in `pandas` are represented by `np.NaN` = not a number\n",
    "- `NaN` is a type of float in numpy"
   ]
  },
  {
   "cell_type": "code",
   "execution_count": 9,
   "id": "2212bddd-6fd9-43f3-9d2b-7cbf67f1cca5",
   "metadata": {
    "tags": []
   },
   "outputs": [
    {
     "data": {
      "text/plain": [
       "nan"
      ]
     },
     "execution_count": 9,
     "metadata": {},
     "output_type": "execute_result"
    }
   ],
   "source": [
    "np.NaN"
   ]
  },
  {
   "cell_type": "code",
   "execution_count": 10,
   "id": "8e3439fc-135b-480b-94e4-31ec3a815b37",
   "metadata": {
    "tags": []
   },
   "outputs": [
    {
     "data": {
      "text/plain": [
       "float"
      ]
     },
     "execution_count": 10,
     "metadata": {},
     "output_type": "execute_result"
    }
   ],
   "source": [
    "type(np.NaN)"
   ]
  },
  {
   "cell_type": "code",
   "execution_count": 11,
   "id": "89f30bfe-fd48-4cbb-989f-e1bb62788c43",
   "metadata": {
    "tags": []
   },
   "outputs": [
    {
     "data": {
      "text/plain": [
       "0    1.0\n",
       "1    2.0\n",
       "2    NaN\n",
       "3    4.0\n",
       "4    NaN\n",
       "dtype: float64"
      ]
     },
     "execution_count": 11,
     "metadata": {},
     "output_type": "execute_result"
    }
   ],
   "source": [
    "# series with NAs in it:\n",
    "s = pd.Series([1, 2, np.NaN, 4, np.NaN])\n",
    "s"
   ]
  },
  {
   "cell_type": "markdown",
   "id": "936b371b-1e28-4dec-a0f7-b02bfd78d023",
   "metadata": {},
   "source": [
    "`hasnans`= attribute of pandas series, returns `True` if there are nay NAs:"
   ]
  },
  {
   "cell_type": "code",
   "execution_count": 12,
   "id": "80b78e9e-c094-4380-90f4-94130f449895",
   "metadata": {
    "tags": []
   },
   "outputs": [
    {
     "data": {
      "text/plain": [
       "True"
      ]
     },
     "execution_count": 12,
     "metadata": {},
     "output_type": "execute_result"
    }
   ],
   "source": [
    "# check if series has NAs\n",
    "s.hasnans"
   ]
  },
  {
   "cell_type": "markdown",
   "id": "0b6f1b36-0a7e-48a1-a500-8efa3b3ae8ac",
   "metadata": {},
   "source": [
    "`isna()` = a *method* of series, returns a series indicating which elements are NAs:"
   ]
  },
  {
   "cell_type": "code",
   "execution_count": 13,
   "id": "d5500aa4-a683-4fd5-bda0-c2a30ae30f10",
   "metadata": {
    "tags": []
   },
   "outputs": [
    {
     "data": {
      "text/plain": [
       "0    False\n",
       "1    False\n",
       "2     True\n",
       "3    False\n",
       "4     True\n",
       "dtype: bool"
      ]
     },
     "execution_count": 13,
     "metadata": {},
     "output_type": "execute_result"
    }
   ],
   "source": [
    "s.isna()"
   ]
  },
  {
   "cell_type": "markdown",
   "id": "c7b2dd5e-105c-474a-ba2c-a803a5ce4d33",
   "metadata": {},
   "source": [
    "`bool`: `True` or `False` are **boolean values**\n",
    "\n",
    "# Dataframes\n",
    "\n",
    "`pandas.DataFrame`:\n",
    "\n",
    "- most used object in `pandas`\n",
    "- represents tabular data (think of a spreadsheet)\n",
    "- each column is a `pandas.Series`\n",
    "\n",
    "# Createing a `pandas.DataFrame`\n",
    "\n",
    "*Many ways of creating a dataframe*. Let's see one. \n",
    "\n",
    "Remember dictionaries? They are sets of key-value pairs:\n",
    "```\n",
    "{ key1 : value1,\n",
    "  key2 : value2\n",
    "}\n",
    "```\n",
    "\n",
    "Think of a `pd.DataFrame` as a dictionary where:\n",
    "\n",
    "- keys = column names\n",
    "- values = column values\n",
    "\n",
    "We can create a dataframe like this:"
   ]
  },
  {
   "cell_type": "code",
   "execution_count": 14,
   "id": "c3c434af-3088-4304-a72e-ab7f84a0c8a6",
   "metadata": {
    "tags": []
   },
   "outputs": [
    {
     "data": {
      "text/plain": [
       "{'col_name_1': array([0, 1, 2]), 'col_name_2': [3.1, 3.2, 3.3]}"
      ]
     },
     "execution_count": 14,
     "metadata": {},
     "output_type": "execute_result"
    }
   ],
   "source": [
    "# initialize dictionary with columns' data\n",
    "d = {'col_name_1' : np.arange(3),\n",
    "     'col_name_2' : [3.1, 3.2, 3.3]\n",
    "    }\n",
    "d"
   ]
  },
  {
   "cell_type": "code",
   "execution_count": 16,
   "id": "aed51345-ced3-434e-a292-d30f14555595",
   "metadata": {
    "tags": []
   },
   "outputs": [
    {
     "data": {
      "text/html": [
       "<div>\n",
       "<style scoped>\n",
       "    .dataframe tbody tr th:only-of-type {\n",
       "        vertical-align: middle;\n",
       "    }\n",
       "\n",
       "    .dataframe tbody tr th {\n",
       "        vertical-align: top;\n",
       "    }\n",
       "\n",
       "    .dataframe thead th {\n",
       "        text-align: right;\n",
       "    }\n",
       "</style>\n",
       "<table border=\"1\" class=\"dataframe\">\n",
       "  <thead>\n",
       "    <tr style=\"text-align: right;\">\n",
       "      <th></th>\n",
       "      <th>col_name_1</th>\n",
       "      <th>col_name_2</th>\n",
       "    </tr>\n",
       "  </thead>\n",
       "  <tbody>\n",
       "    <tr>\n",
       "      <th>0</th>\n",
       "      <td>0</td>\n",
       "      <td>3.1</td>\n",
       "    </tr>\n",
       "    <tr>\n",
       "      <th>1</th>\n",
       "      <td>1</td>\n",
       "      <td>3.2</td>\n",
       "    </tr>\n",
       "    <tr>\n",
       "      <th>2</th>\n",
       "      <td>2</td>\n",
       "      <td>3.3</td>\n",
       "    </tr>\n",
       "  </tbody>\n",
       "</table>\n",
       "</div>"
      ],
      "text/plain": [
       "   col_name_1  col_name_2\n",
       "0           0         3.1\n",
       "1           1         3.2\n",
       "2           2         3.3"
      ]
     },
     "execution_count": 16,
     "metadata": {},
     "output_type": "execute_result"
    }
   ],
   "source": [
    "# create data frame\n",
    "df = pd.DataFrame(d)\n",
    "df"
   ]
  },
  {
   "cell_type": "markdown",
   "id": "ab227a02-cac4-4341-af20-81de1b407004",
   "metadata": {},
   "source": [
    "# In-place operations\n",
    "Let's rename the data frame's columns.\n",
    "We can use a dataframe *mehtod* called `rename`. \n",
    "`rename` takes in as an input a dictionary:\n",
    "\n",
    "```\n",
    "{ 'col_1_old_name' : 'col_1_new_name',\n",
    "  'col_2_old_name' : 'col_2_new_name'\n",
    "}\n",
    "```"
   ]
  },
  {
   "cell_type": "code",
   "execution_count": 17,
   "id": "ae5763a8-490a-4257-b6a6-4c3c38ccf7b2",
   "metadata": {
    "tags": []
   },
   "outputs": [
    {
     "data": {
      "text/html": [
       "<div>\n",
       "<style scoped>\n",
       "    .dataframe tbody tr th:only-of-type {\n",
       "        vertical-align: middle;\n",
       "    }\n",
       "\n",
       "    .dataframe tbody tr th {\n",
       "        vertical-align: top;\n",
       "    }\n",
       "\n",
       "    .dataframe thead th {\n",
       "        text-align: right;\n",
       "    }\n",
       "</style>\n",
       "<table border=\"1\" class=\"dataframe\">\n",
       "  <thead>\n",
       "    <tr style=\"text-align: right;\">\n",
       "      <th></th>\n",
       "      <th>col1</th>\n",
       "      <th>col2</th>\n",
       "    </tr>\n",
       "  </thead>\n",
       "  <tbody>\n",
       "    <tr>\n",
       "      <th>0</th>\n",
       "      <td>0</td>\n",
       "      <td>3.1</td>\n",
       "    </tr>\n",
       "    <tr>\n",
       "      <th>1</th>\n",
       "      <td>1</td>\n",
       "      <td>3.2</td>\n",
       "    </tr>\n",
       "    <tr>\n",
       "      <th>2</th>\n",
       "      <td>2</td>\n",
       "      <td>3.3</td>\n",
       "    </tr>\n",
       "  </tbody>\n",
       "</table>\n",
       "</div>"
      ],
      "text/plain": [
       "   col1  col2\n",
       "0     0   3.1\n",
       "1     1   3.2\n",
       "2     2   3.3"
      ]
     },
     "execution_count": 17,
     "metadata": {},
     "output_type": "execute_result"
    }
   ],
   "source": [
    "# define new column names\n",
    "col_names = { 'col_name_1' : 'col1',\n",
    "              'col_name_2' : 'col2'\n",
    "            }\n",
    "# rename using rename\n",
    "df.rename(columns = col_names)"
   ]
  },
  {
   "cell_type": "code",
   "execution_count": 18,
   "id": "12dda897-2877-480e-8d7e-ce8624dce25e",
   "metadata": {
    "tags": []
   },
   "outputs": [
    {
     "data": {
      "text/html": [
       "<div>\n",
       "<style scoped>\n",
       "    .dataframe tbody tr th:only-of-type {\n",
       "        vertical-align: middle;\n",
       "    }\n",
       "\n",
       "    .dataframe tbody tr th {\n",
       "        vertical-align: top;\n",
       "    }\n",
       "\n",
       "    .dataframe thead th {\n",
       "        text-align: right;\n",
       "    }\n",
       "</style>\n",
       "<table border=\"1\" class=\"dataframe\">\n",
       "  <thead>\n",
       "    <tr style=\"text-align: right;\">\n",
       "      <th></th>\n",
       "      <th>col_name_1</th>\n",
       "      <th>col_name_2</th>\n",
       "    </tr>\n",
       "  </thead>\n",
       "  <tbody>\n",
       "    <tr>\n",
       "      <th>0</th>\n",
       "      <td>0</td>\n",
       "      <td>3.1</td>\n",
       "    </tr>\n",
       "    <tr>\n",
       "      <th>1</th>\n",
       "      <td>1</td>\n",
       "      <td>3.2</td>\n",
       "    </tr>\n",
       "    <tr>\n",
       "      <th>2</th>\n",
       "      <td>2</td>\n",
       "      <td>3.3</td>\n",
       "    </tr>\n",
       "  </tbody>\n",
       "</table>\n",
       "</div>"
      ],
      "text/plain": [
       "   col_name_1  col_name_2\n",
       "0           0         3.1\n",
       "1           1         3.2\n",
       "2           2         3.3"
      ]
     },
     "execution_count": 18,
     "metadata": {},
     "output_type": "execute_result"
    }
   ],
   "source": [
    "# take a look at our dataframe\n",
    "df"
   ]
  },
  {
   "cell_type": "markdown",
   "id": "67037ec2-1eb5-4e02-a58f-19c385f365c5",
   "metadata": {},
   "source": [
    "Nothing changed! \n",
    "`df.rename()` doesn't change the column names *in place*, meaning it doesn't modify the object itself. Instead, it created a new object as an output. \n",
    "\n",
    "Assign ouput back to dataframe to actually change it:"
   ]
  },
  {
   "cell_type": "code",
   "execution_count": 19,
   "id": "5479a421-196f-4b0b-b906-331e52ca62c1",
   "metadata": {
    "tags": []
   },
   "outputs": [
    {
     "data": {
      "text/html": [
       "<div>\n",
       "<style scoped>\n",
       "    .dataframe tbody tr th:only-of-type {\n",
       "        vertical-align: middle;\n",
       "    }\n",
       "\n",
       "    .dataframe tbody tr th {\n",
       "        vertical-align: top;\n",
       "    }\n",
       "\n",
       "    .dataframe thead th {\n",
       "        text-align: right;\n",
       "    }\n",
       "</style>\n",
       "<table border=\"1\" class=\"dataframe\">\n",
       "  <thead>\n",
       "    <tr style=\"text-align: right;\">\n",
       "      <th></th>\n",
       "      <th>col1</th>\n",
       "      <th>col2</th>\n",
       "    </tr>\n",
       "  </thead>\n",
       "  <tbody>\n",
       "    <tr>\n",
       "      <th>0</th>\n",
       "      <td>0</td>\n",
       "      <td>3.1</td>\n",
       "    </tr>\n",
       "    <tr>\n",
       "      <th>1</th>\n",
       "      <td>1</td>\n",
       "      <td>3.2</td>\n",
       "    </tr>\n",
       "    <tr>\n",
       "      <th>2</th>\n",
       "      <td>2</td>\n",
       "      <td>3.3</td>\n",
       "    </tr>\n",
       "  </tbody>\n",
       "</table>\n",
       "</div>"
      ],
      "text/plain": [
       "   col1  col2\n",
       "0     0   3.1\n",
       "1     1   3.2\n",
       "2     2   3.3"
      ]
     },
     "execution_count": 19,
     "metadata": {},
     "output_type": "execute_result"
    }
   ],
   "source": [
    "df = df.rename(columns = col_names)\n",
    "df"
   ]
  },
  {
   "cell_type": "code",
   "execution_count": null,
   "id": "68f03510-48b0-491b-9b2c-f7140306bea5",
   "metadata": {},
   "outputs": [],
   "source": []
  }
 ],
 "metadata": {
  "kernelspec": {
   "display_name": "Anaconda 3 (Base)",
   "language": "python",
   "name": "base"
  },
  "language_info": {
   "codemirror_mode": {
    "name": "ipython",
    "version": 3
   },
   "file_extension": ".py",
   "mimetype": "text/x-python",
   "name": "python",
   "nbconvert_exporter": "python",
   "pygments_lexer": "ipython3",
   "version": "3.9.13"
  }
 },
 "nbformat": 4,
 "nbformat_minor": 5
}
