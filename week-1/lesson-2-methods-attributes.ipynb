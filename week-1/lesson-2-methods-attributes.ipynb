{
 "cells": [
  {
   "cell_type": "markdown",
   "id": "e08e1e0c-243a-444a-83c7-6c244e2405c9",
   "metadata": {},
   "source": [
    "October 4th, 2023\n",
    "\n",
    "# Attributes & Methods\n",
    "\n",
    "An object in Python has attributes and methods.\n",
    "\n",
    "- **attribute**: a property of an object, a piece of information about it.\n",
    "- **method**: a procedure associated with an object, an action where the main ingredient is the object itself.\n",
    "\n",
    "Access a variable'sattributes and methods by adding a period `.` at the end of the variable's name\n",
    "\n",
    "`variable.variable_method()` or\n",
    "\n",
    "`variable.variable_attribute`\n",
    "\n",
    "Examples:\n",
    "\n",
    "Methods and attributes of NumPy arrays:"
   ]
  },
  {
   "cell_type": "code",
   "execution_count": 1,
   "id": "47b8d227-7180-4ed6-81d7-abb67cfe25f7",
   "metadata": {
    "tags": []
   },
   "outputs": [],
   "source": [
    "import numpy as np"
   ]
  },
  {
   "cell_type": "code",
   "execution_count": 2,
   "id": "345f608c-3bb7-4a3a-927d-591e2654a6e1",
   "metadata": {
    "tags": []
   },
   "outputs": [
    {
     "data": {
      "text/plain": [
       "array([[1, 2, 3],\n",
       "       [4, 5, 6],\n",
       "       [7, 8, 9]])"
      ]
     },
     "execution_count": 2,
     "metadata": {},
     "output_type": "execute_result"
    }
   ],
   "source": [
    "# define a 3x3 array\n",
    "var = np.array( [ [1,2,3] , [4,5,6], [7,8,9] ] )\n",
    "var"
   ]
  },
  {
   "cell_type": "code",
   "execution_count": 3,
   "id": "0cc8c78a-97fa-487f-b1c6-d0966af56d4f",
   "metadata": {
    "tags": []
   },
   "outputs": [
    {
     "data": {
      "text/plain": [
       "(3, 3)"
      ]
     },
     "execution_count": 3,
     "metadata": {},
     "output_type": "execute_result"
    }
   ],
   "source": [
    "# shape : attribute telling us\n",
    "# the number of elements in each dimension of the array\n",
    "var.shape"
   ]
  },
  {
   "cell_type": "code",
   "execution_count": 4,
   "id": "f166690a-c203-4d94-8730-29860baf822d",
   "metadata": {
    "tags": []
   },
   "outputs": [
    {
     "data": {
      "text/plain": [
       "tuple"
      ]
     },
     "execution_count": 4,
     "metadata": {},
     "output_type": "execute_result"
    }
   ],
   "source": [
    "type(var.shape)"
   ]
  },
  {
   "cell_type": "code",
   "execution_count": 5,
   "id": "fe16c346-3ca4-41dd-bad0-049c83fa6705",
   "metadata": {
    "tags": []
   },
   "outputs": [
    {
     "data": {
      "text/plain": [
       "2"
      ]
     },
     "execution_count": 5,
     "metadata": {},
     "output_type": "execute_result"
    }
   ],
   "source": [
    "# ndim is an attribute holding the number of array dimensions\n",
    "var.ndim"
   ]
  },
  {
   "cell_type": "code",
   "execution_count": 6,
   "id": "a9d6f1ad-1373-4df8-8374-a0ce737793e7",
   "metadata": {
    "tags": []
   },
   "outputs": [
    {
     "data": {
      "text/plain": [
       "int"
      ]
     },
     "execution_count": 6,
     "metadata": {},
     "output_type": "execute_result"
    }
   ],
   "source": [
    "type(var.ndim)"
   ]
  },
  {
   "cell_type": "markdown",
   "id": "019ae39b-fa0c-454b-8516-b4abbc5aa31f",
   "metadata": {},
   "source": [
    "Notice attributs can have many different data types.\n",
    "\n",
    "Examples of methods:"
   ]
  },
  {
   "cell_type": "code",
   "execution_count": 7,
   "id": "f7f69635-3f79-4100-884c-3cab6520b0b9",
   "metadata": {
    "tags": []
   },
   "outputs": [
    {
     "data": {
      "text/plain": [
       "1"
      ]
     },
     "execution_count": 7,
     "metadata": {},
     "output_type": "execute_result"
    }
   ],
   "source": [
    "# min method for array\n",
    "# return the minimum value in the array\n",
    "var.min()"
   ]
  },
  {
   "cell_type": "code",
   "execution_count": 8,
   "id": "8fb56516-d874-4b7b-83fc-11ed7b533aa4",
   "metadata": {
    "tags": []
   },
   "outputs": [
    {
     "data": {
      "text/plain": [
       "builtin_function_or_method"
      ]
     },
     "execution_count": 8,
     "metadata": {},
     "output_type": "execute_result"
    }
   ],
   "source": [
    "type(var.min)"
   ]
  },
  {
   "cell_type": "markdown",
   "id": "ba533b89-6e09-4abc-a5a3-5b72ae96ad05",
   "metadata": {},
   "source": [
    "# R & Python\n",
    "R:\n",
    "- doesn't use methods within an object\n",
    "- functions in R are extrinsic to (outside) the objects they are acting on\n",
    "\n",
    "Example : recreate getting the min value in an array\n",
    "\n",
    "In R there would be two separate items: the variable `var` and a *separate* function `min` that gets `var` as a parameter:\n",
    "\n",
    "\n",
    "```\n",
    "# this is R code\n",
    "var <- array(c(1,4,7,2,5,8,3,6,9), dim=c(3,3)\n",
    "min(var)\n",
    "```\n",
    "\n",
    "Using the pipe operator >%> in R's tidyverse is closer to the `.` in Python:\n",
    "\n",
    "```\n",
    "var <- array(c(1,4,7,2,5,8,3,6,9), dim=c(3,3)\n",
    "var >%> min()\n",
    "```\n",
    "\n",
    "What is happening?\n",
    "The pipe `>%>` is passing `var` to the `min()` as it first argument. This is essentially what the `.` in Python:\n",
    "\n",
    "```\n",
    "var = np.array( [ [1,2,3] , [4,5,6], [7,8,9] ] )\n",
    "var.min()\n",
    "```\n",
    "\n"
   ]
  }
 ],
 "metadata": {
  "kernelspec": {
   "display_name": "Anaconda 3 (Base)",
   "language": "python",
   "name": "base"
  },
  "language_info": {
   "codemirror_mode": {
    "name": "ipython",
    "version": 3
   },
   "file_extension": ".py",
   "mimetype": "text/x-python",
   "name": "python",
   "nbconvert_exporter": "python",
   "pygments_lexer": "ipython3",
   "version": "3.9.13"
  }
 },
 "nbformat": 4,
 "nbformat_minor": 5
}
