{
 "cells": [
  {
   "cell_type": "markdown",
   "id": "a11df15b-903c-4fcb-a7dd-75b7473f83e5",
   "metadata": {},
   "source": [
    "October 2nd, 2023.\n",
    "\n",
    "# `numpy`\n",
    "\n",
    "- one of the core packages for numerical computing in Python\n",
    "- many packages are built on topy numpy\n",
    "- `numpy` has been optimized for processing: faster due to memory access"
   ]
  },
  {
   "cell_type": "code",
   "execution_count": 1,
   "id": "6ee31a1f-7167-4e5d-9c0f-76c48161d529",
   "metadata": {
    "tags": []
   },
   "outputs": [],
   "source": [
    "# import Numpy with standard abbreviation\n",
    "import numpy as np"
   ]
  },
  {
   "cell_type": "markdown",
   "id": "8ab70e7e-d7c0-4a13-94fc-efbe1dada687",
   "metadata": {},
   "source": [
    "# Variables\n",
    "We can think about variables as a name we assign to a particular object in Python.\n",
    "For example:"
   ]
  },
  {
   "cell_type": "code",
   "execution_count": 2,
   "id": "50a4c11c-0d2e-4689-8dde-5dda938396be",
   "metadata": {
    "tags": []
   },
   "outputs": [],
   "source": [
    "# asssign a small array to a variable a\n",
    "a = np.array( [ [1,1,2], [3,5,8] ] )"
   ]
  },
  {
   "cell_type": "markdown",
   "id": "effcfc2f-a15c-47c1-b173-74d562efecda",
   "metadata": {},
   "source": [
    "When we run the cell, we store the variable and its value. We can see the variable's value in two ways:"
   ]
  },
  {
   "cell_type": "code",
   "execution_count": 3,
   "id": "7db6b6eb-b32e-4fb7-bb54-aea83a0cf633",
   "metadata": {
    "tags": []
   },
   "outputs": [
    {
     "data": {
      "text/plain": [
       "array([[1, 1, 2],\n",
       "       [3, 5, 8]])"
      ]
     },
     "execution_count": 3,
     "metadata": {},
     "output_type": "execute_result"
    }
   ],
   "source": [
    "a"
   ]
  },
  {
   "cell_type": "code",
   "execution_count": 4,
   "id": "bc52bf38-2a0e-4382-8bd4-bdc2a456ac18",
   "metadata": {
    "tags": []
   },
   "outputs": [
    {
     "name": "stdout",
     "output_type": "stream",
     "text": [
      "[[1 1 2]\n",
      " [3 5 8]]\n"
     ]
    }
   ],
   "source": [
    "print(a)"
   ]
  },
  {
   "cell_type": "markdown",
   "id": "36ac75ab-2e90-4f13-90c5-993a014845a1",
   "metadata": {},
   "source": [
    "## naming variables\n",
    "in the class we are going to use `snake_case` for naming variables. \n",
    "\n",
    "# Variables and objects\n",
    "\n",
    "**object**: often encountered in Python documentation and tutorials.\n",
    "\n",
    "object is a bundle of properties and actions about something specific\n",
    "\n",
    "Example:\n",
    "\n",
    "- object: data frame\n",
    "- properties: number of rows, names of columns, data created\n",
    "- actions: selecting a row, adding a column \n",
    "\n",
    "A variable is a name we give a specific object, and the same object can be referenced by different variables.\n",
    "\n",
    "Example:\n",
    "\n",
    "- The Sun (actual star at the center of solar system) = object\n",
    "- sol = Spanish word for Sun = variable\n",
    "- soleil = Fren for Sun = another variable \n",
    "\n",
    "In practice: we will use object and variable interchangeably\n"
   ]
  },
  {
   "cell_type": "markdown",
   "id": "a9924da0-0f36-41e9-a0d0-d92b3d9ef07d",
   "metadata": {},
   "source": [
    "# Types\n",
    "\n",
    "Each object in Python has a type.\n",
    "\n",
    "type = what kind of object it is\n",
    "\n",
    "We can also call the type of the object, the **class** of the object. \n",
    "\n",
    "We can see the type/class of an object by using the `type` function:"
   ]
  },
  {
   "cell_type": "code",
   "execution_count": 5,
   "id": "649c9757-b65b-45a7-b72d-1ae27eed1eca",
   "metadata": {
    "tags": []
   },
   "outputs": [
    {
     "name": "stdout",
     "output_type": "stream",
     "text": [
      "[[1 1 2]\n",
      " [3 5 8]]\n"
     ]
    },
    {
     "data": {
      "text/plain": [
       "numpy.ndarray"
      ]
     },
     "execution_count": 5,
     "metadata": {},
     "output_type": "execute_result"
    }
   ],
   "source": [
    "print(a)\n",
    "type(a)"
   ]
  },
  {
   "cell_type": "markdown",
   "id": "d865d7c2-4629-4b63-86f8-84c07b07acfb",
   "metadata": {},
   "source": [
    "The `numpy.ndarray` is the core object/data type in the NumPy package. \n",
    "We can check the type of an entry in the array by indexing:"
   ]
  },
  {
   "cell_type": "code",
   "execution_count": 6,
   "id": "d6eb7217-f94a-44df-8e75-9b7be892a92e",
   "metadata": {
    "tags": []
   },
   "outputs": [
    {
     "name": "stdout",
     "output_type": "stream",
     "text": [
      "1\n"
     ]
    },
    {
     "data": {
      "text/plain": [
       "numpy.int64"
      ]
     },
     "execution_count": 6,
     "metadata": {},
     "output_type": "execute_result"
    }
   ],
   "source": [
    "print(a[0,0])\n",
    "type(a[0,0])"
   ]
  },
  {
   "cell_type": "code",
   "execution_count": 8,
   "id": "8c3bcdb0-6927-463b-94f9-a60b346c705f",
   "metadata": {
    "tags": []
   },
   "outputs": [
    {
     "name": "stdout",
     "output_type": "stream",
     "text": [
      "[[1 1 2]\n",
      " [3 5 8]]\n"
     ]
    },
    {
     "data": {
      "text/plain": [
       "5"
      ]
     },
     "execution_count": 8,
     "metadata": {},
     "output_type": "execute_result"
    }
   ],
   "source": [
    "# how would access the value 5 in the array a?\n",
    "print(a)\n",
    "a[1,1]"
   ]
  },
  {
   "cell_type": "markdown",
   "id": "3b3370db-1cec-4f63-91e0-2aa0efd7ee9c",
   "metadata": {},
   "source": [
    "## Question from Luna:\n",
    "What is the difference between `a[1,1]` and `a[1][1]`? I get the same result:"
   ]
  },
  {
   "cell_type": "code",
   "execution_count": 9,
   "id": "2aac2d98-a6d5-4e44-9c84-75dff3ff3064",
   "metadata": {
    "tags": []
   },
   "outputs": [
    {
     "data": {
      "text/plain": [
       "5"
      ]
     },
     "execution_count": 9,
     "metadata": {},
     "output_type": "execute_result"
    }
   ],
   "source": [
    "a[1][1]"
   ]
  },
  {
   "cell_type": "markdown",
   "id": "6b3db1b0-5bab-4aca-9601-f971e319e3e1",
   "metadata": {},
   "source": [
    "Great question! \n",
    "Although these the same output, the first one `a[1,1]` is more efficient. \n",
    "This is because `a[1][1]` is first creating a view to the first row `a[1]` and then selecting the second element from that row `a[1][1]`. \n",
    "So it does the accessing in two steps instead of a single one.\n",
    "More on this: https://numpy.org/devdocs/user/basics.indexing.html#basic-indexing\n"
   ]
  },
  {
   "cell_type": "markdown",
   "id": "0c23a262-238a-4317-ae9c-e47191aae5ba",
   "metadata": {},
   "source": [
    "# Functions\n",
    "\n",
    "`print` was our example of a Python function!\n",
    "\n",
    "A function:\n",
    "- takes in a set of **arguments**, separated by commas, and\n",
    "- uses those arguments to produce some **output**\n",
    "\n",
    "argument = parameter : you might see argument more often in the documentation\n",
    "\n",
    "We can ask for information about a function by exectuing `?` followed by the function name:\n"
   ]
  },
  {
   "cell_type": "code",
   "execution_count": 10,
   "id": "fbad54be-5644-4373-9cf1-2288f51414d4",
   "metadata": {
    "tags": []
   },
   "outputs": [
    {
     "data": {
      "text/plain": [
       "\u001b[0;31mDocstring:\u001b[0m\n",
       "print(value, ..., sep=' ', end='\\n', file=sys.stdout, flush=False)\n",
       "\n",
       "Prints the values to a stream, or to sys.stdout by default.\n",
       "Optional keyword arguments:\n",
       "file:  a file-like object (stream); defaults to the current sys.stdout.\n",
       "sep:   string inserted between values, default a space.\n",
       "end:   string appended after the last value, default a newline.\n",
       "flush: whether to forcibly flush the stream.\n",
       "\u001b[0;31mType:\u001b[0m      builtin_function_or_method\n"
      ]
     },
     "metadata": {},
     "output_type": "display_data"
    }
   ],
   "source": [
    "?print"
   ]
  },
  {
   "cell_type": "markdown",
   "id": "ba671bfe-7bc4-401a-9ecc-4ae4df8a5720",
   "metadata": {},
   "source": [
    "- first line: function showing all of its arguments in parenthesis\n",
    "- then a short description of what the function does\n",
    "- finally, a list of the arguments and a brief explanation of each of them. \n",
    "\n",
    "Different types of arguments inside the parenthesis. Roughly speaking, there are two types of arguments:\n",
    "\n",
    "- **non-optional arguments**: arguments you need to specify for the function to do something\n",
    "- **optional arguments**: arguments that are pre-filled with a default value by the function, but we can override them. Optional arguments appear inside the parenthesis () in the form \n",
    "\n",
    "`optional_argument = default_value`"
   ]
  },
  {
   "cell_type": "code",
   "execution_count": 11,
   "id": "6dc58cd2-4724-49e9-b032-10865f6b829a",
   "metadata": {
    "tags": []
   },
   "outputs": [
    {
     "name": "stdout",
     "output_type": "stream",
     "text": [
      "changing the default end argument of the print function:)"
     ]
    }
   ],
   "source": [
    "print('changing the default end argument of the print function', end=':)')"
   ]
  },
  {
   "cell_type": "code",
   "execution_count": 1,
   "id": "976f2022-ad7b-496a-8ccc-baf354f8005c",
   "metadata": {
    "tags": []
   },
   "outputs": [
    {
     "name": "stdout",
     "output_type": "stream",
     "text": [
      "did not change the default end argument of the print function\n"
     ]
    }
   ],
   "source": [
    "print('did not change the default end argument of the print function')"
   ]
  },
  {
   "cell_type": "code",
   "execution_count": null,
   "id": "bd19cdc7-a1e3-4344-9854-74c06a2ee05b",
   "metadata": {},
   "outputs": [],
   "source": []
  }
 ],
 "metadata": {
  "kernelspec": {
   "display_name": "Anaconda 3 (Base)",
   "language": "python",
   "name": "base"
  },
  "language_info": {
   "codemirror_mode": {
    "name": "ipython",
    "version": 3
   },
   "file_extension": ".py",
   "mimetype": "text/x-python",
   "name": "python",
   "nbconvert_exporter": "python",
   "pygments_lexer": "ipython3",
   "version": "3.9.13"
  }
 },
 "nbformat": 4,
 "nbformat_minor": 5
}
